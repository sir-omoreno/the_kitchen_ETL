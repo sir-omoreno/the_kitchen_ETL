{
 "cells": [
  {
   "cell_type": "code",
   "execution_count": 1,
   "metadata": {},
   "outputs": [],
   "source": [
    "from splinter import Browser\n",
    "from bs4 import BeautifulSoup\n",
    "from webdriver_manager.chrome import ChromeDriverManager\n",
    "import time\n",
    "import requests\n",
    "import json\n",
    "import re"
   ]
  },
  {
   "cell_type": "code",
   "execution_count": 2,
   "metadata": {},
   "outputs": [
    {
     "name": "stderr",
     "output_type": "stream",
     "text": [
      "[WDM] - Current google-chrome version is 86.0.4240\n",
      "[WDM] - Get LATEST driver version for 86.0.4240\n",
      "[WDM] - Driver [/Users/rachelchan/.wdm/drivers/chromedriver/mac64/86.0.4240.22/chromedriver] found in cache\n"
     ]
    },
    {
     "name": "stdout",
     "output_type": "stream",
     "text": [
      " \n"
     ]
    }
   ],
   "source": [
    "executable_path = {'executable_path': ChromeDriverManager().install()}\n",
    "browser = Browser('chrome', **executable_path, headless=False)"
   ]
  },
  {
   "cell_type": "code",
   "execution_count": 3,
   "metadata": {},
   "outputs": [],
   "source": [
    "url = 'https://www.hellofresh.com/recipes/smokehouse-pulled-chicken-bowls-5f5fa43ab7994b69f050a7e4'\n",
    "\n",
    "response = requests.get(url)\n",
    "\n",
    "browser.visit(url)\n"
   ]
  },
  {
   "cell_type": "code",
   "execution_count": 20,
   "metadata": {},
   "outputs": [
    {
     "name": "stdout",
     "output_type": "stream",
     "text": [
      "[{'recipe_name': 'Smokehouse Pulled Chicken Bowls', 'total_time': '20 minutes', 'ingredients': []}]\n"
     ]
    }
   ],
   "source": [
    "#Using splinter to click each recipe\n",
    "\n",
    "# links = browser.find_by_text('Get Recipe')\n",
    "# links.click()\n",
    "\n",
    "\n",
    "\n",
    "soup = BeautifulSoup(response.text, 'html.parser')\n",
    "# print(soup.prettify())\n",
    "# name=soup.find(\"h1\")\n",
    "\n",
    "\n",
    "\n",
    "\n",
    "#Storing a dictionary of data\n",
    "extracted_data = []\n",
    "\n",
    "#variables\n",
    "# name=[]\n",
    "# total_time=[]\n",
    "# difficulty=[]\n",
    "\n",
    "#variables = [name, difficulty]\n",
    "\n",
    "#for variable in variables:\n",
    "    \n",
    "name=soup.find(\"h1\").text\n",
    "total_time=soup.find(class_=\"dsa dsb dsc dsd dse dscz\").text\n",
    "ingredients=soup.find_all(class_=\"dsa dscs dsil dsd dse dsbf dsim\")\n",
    "\n",
    "#difficulty=soup.select_one(\"#recipe-detail-fragment\").text\n",
    "   \n",
    "\n",
    "record = {'recipe_name': name,\n",
    "          'total_time': total_time,\n",
    "          'ingredients': ingredients\n",
    "          }\n",
    "extracted_data.append(record)\n",
    "print(extracted_data)\n",
    "\n",
    "\n",
    "\n",
    "with open('hf2_recipes.json', 'w') as f:\n",
    "    json.dump(extracted_data, f, indent=4, ensure_ascii=False)\n",
    "\n",
    "\n",
    "\n",
    "\n",
    "# for link in links:\n",
    "#     link.click()\n",
    "    \n",
    "    \n",
    "#     html=browser.html\n",
    "#     soup=BeautifulSoup(html, 'html.parser')\n",
    "    \n",
    "#     browser.back()\n",
    "    #time.sleep(2)\n",
    "\n",
    "\n"
   ]
  },
  {
   "cell_type": "code",
   "execution_count": null,
   "metadata": {},
   "outputs": [],
   "source": []
  },
  {
   "cell_type": "code",
   "execution_count": null,
   "metadata": {},
   "outputs": [],
   "source": []
  },
  {
   "cell_type": "code",
   "execution_count": null,
   "metadata": {},
   "outputs": [],
   "source": []
  }
 ],
 "metadata": {
  "kernelspec": {
   "display_name": "Python 3",
   "language": "python",
   "name": "python3"
  },
  "language_info": {
   "codemirror_mode": {
    "name": "ipython",
    "version": 3
   },
   "file_extension": ".py",
   "mimetype": "text/x-python",
   "name": "python",
   "nbconvert_exporter": "python",
   "pygments_lexer": "ipython3",
   "version": "3.6.10"
  }
 },
 "nbformat": 4,
 "nbformat_minor": 4
}

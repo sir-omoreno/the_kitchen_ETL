{
 "cells": [
  {
   "cell_type": "code",
   "execution_count": 1,
   "metadata": {},
   "outputs": [],
   "source": [
    "from splinter import Browser\n",
    "from bs4 import BeautifulSoup\n",
    "from webdriver_manager.chrome import ChromeDriverManager\n",
    "import time\n",
    "import requests\n",
    "import json\n",
    "import re"
   ]
  },
  {
   "cell_type": "code",
   "execution_count": 2,
   "metadata": {},
   "outputs": [
    {
     "name": "stderr",
     "output_type": "stream",
     "text": [
      "[WDM] - Current google-chrome version is 86.0.4240\n",
      "[WDM] - Get LATEST driver version for 86.0.4240\n",
      "[WDM] - Driver [/Users/rachelchan/.wdm/drivers/chromedriver/mac64/86.0.4240.22/chromedriver] found in cache\n"
     ]
    },
    {
     "name": "stdout",
     "output_type": "stream",
     "text": [
      " \n"
     ]
    }
   ],
   "source": [
    "executable_path = {'executable_path': ChromeDriverManager().install()}\n",
    "browser = Browser('chrome', **executable_path, headless=False)"
   ]
  },
  {
   "cell_type": "code",
   "execution_count": 3,
   "metadata": {},
   "outputs": [],
   "source": [
    "url = 'https://www.hellofresh.com/recipes/smokehouse-pulled-chicken-bowls-5f5fa43ab7994b69f050a7e4'\n",
    "\n",
    "response = requests.get(url)\n",
    "\n",
    "browser.visit(url)\n",
    "soup = BeautifulSoup(response.text, 'html.parser')"
   ]
  },
  {
   "cell_type": "code",
   "execution_count": 4,
   "metadata": {},
   "outputs": [
    {
     "name": "stdout",
     "output_type": "stream",
     "text": [
      "[{'recipe_name': 'Smokehouse Pulled Chicken Bowls', 'total_time': '20 minutes', 'difficulty': 'Medium', 'ingredients': ['½ cup Jasmine Rice', '1 unit Lime', '1 unit Shallot', '13.4 ounce Corn', '1 unit Jalapeño', '4 tablespoon Sour Cream', '1 tablespoon Southwest Spice Blend', '10 ounce Pulled Chicken in BBQ Sauce']}]\n"
     ]
    }
   ],
   "source": [
    "#Using splinter to click each recipe\n",
    "\n",
    "# links = browser.find_by_text('Get Recipe')\n",
    "# links.click()\n",
    "\n",
    "\n",
    "\n",
    "# soup = BeautifulSoup(response.text, 'html.parser')\n",
    "# print(soup.prettify())\n",
    "# name=soup.find(\"h1\")\n",
    "\n",
    "\n",
    "\n",
    "\n",
    "#Storing a dictionary of data\n",
    "extracted_data = []\n",
    "\n",
    "#variables\n",
    "# name=[]\n",
    "# total_time=[]\n",
    "# difficulty=[]\n",
    "\n",
    "#variables = [name, difficulty]\n",
    "\n",
    "#for variable in variables:\n",
    "    \n",
    "    \n",
    "#Defining variables\n",
    "name=soup.find(\"h1\").text\n",
    "\n",
    "#Time\n",
    "t_details =soup.find(class_=\"fela-_19qpnoj\")\n",
    "time_class=t_details.find(class_=\"dsa dsb dsc dsd dse dscz\")\n",
    "total_time=time_class.text\n",
    "\n",
    "#Difficulty\n",
    "dif_details = soup.find(class_=\"fela-_1slhjvb\")\n",
    "dif_2=dif_details.find_all(class_=\"fela-_19qpnoj\")[2]\n",
    "dif_3=dif_2.find(class_=\"dsa dsb dsc dsd dse dscz\")\n",
    "difficulty=dif_3.text\n",
    "\n",
    "#Ingredient list. Developing from hierarchy of tags\n",
    "ing_1=soup.find(\"div\", class_=\"fela-_14s1ns7\")\n",
    "ing_2=ing_1.find(class_=\"dsav dsaw dsax dsay dsg dsaz dsba dsbb dsbc dsbd dsbe dsbf dsbg dsbh dsbi\")\n",
    "\n",
    "#They seem to regularly update this tag, so make sure it works\n",
    "\n",
    "ing_3=ing_2.find_all(class_=\"dsa dscs dsgb dsd dse dsbt dsgc\")  \n",
    "ing_3=ing_2.find_all(class_=\"dsa dscs dsge dsd dse dsbt dsgf\")\n",
    "\n",
    "#For loop to extract text from p tags and append to dictionary\n",
    "ingredients =[]\n",
    "\n",
    "for entries in ing_3:\n",
    "    ingredients.append(entries.text)\n",
    "\n",
    "ingredients_new = [' '.join(x) for x in zip(ingredients[0::2], ingredients[1::2])]\n",
    "   \n",
    "    \n",
    "record = {'recipe_name': name,\n",
    "          'total_time': total_time,\n",
    "          'difficulty': difficulty,\n",
    "          'ingredients': ingredients_new\n",
    "          }\n",
    "\n",
    "#Printing data\n",
    "extracted_data.append(record)\n",
    "print(extracted_data)\n",
    "\n",
    "\n",
    "\n",
    "with open('hf2_recipes.json', 'w') as f:\n",
    "    json.dump(extracted_data, f, indent=4, ensure_ascii=False)\n",
    "\n",
    "\n",
    "\n",
    "\n",
    "# for link in links:\n",
    "#     link.click()\n",
    "    \n",
    "    \n",
    "#     html=browser.html\n",
    "#     soup=BeautifulSoup(html, 'html.parser')\n",
    "    \n",
    "#     browser.back()\n",
    "    #time.sleep(2)\n",
    "\n",
    "\n"
   ]
  },
  {
   "cell_type": "code",
   "execution_count": 5,
   "metadata": {},
   "outputs": [
    {
     "data": {
      "text/plain": [
       "<div class=\"fela-_19qpnoj\"><span class=\"dsa dsb dsc dscb dse\"><span data-translation-id=\"recipe-detail.preparation-time\">Total Time</span></span><span class=\"dsa dsb dsc dsd dse dscz\">20 minutes</span></div>"
      ]
     },
     "execution_count": 5,
     "metadata": {},
     "output_type": "execute_result"
    }
   ],
   "source": [
    "t_details =soup.find(class_=\"fela-_19qpnoj\")\n",
    "t_details\n",
    "\n"
   ]
  },
  {
   "cell_type": "code",
   "execution_count": 6,
   "metadata": {},
   "outputs": [
    {
     "data": {
      "text/plain": [
       "'20 minutes'"
      ]
     },
     "execution_count": 6,
     "metadata": {},
     "output_type": "execute_result"
    }
   ],
   "source": [
    "time=t_details.find(class_=\"dsa dsb dsc dsd dse dscz\")\n",
    "time.text"
   ]
  },
  {
   "cell_type": "code",
   "execution_count": 7,
   "metadata": {},
   "outputs": [
    {
     "data": {
      "text/plain": [
       "<div class=\"fela-_1slhjvb\"><div class=\"fela-_19qpnoj\"><span class=\"dsa dsb dsc dscb dse\"><span data-translation-id=\"recipe-detail.preparation-time\">Total Time</span></span><span class=\"dsa dsb dsc dsd dse dscz\">20 minutes</span></div><div class=\"fela-_19qpnoj\"><span class=\"dsa dsb dsc dscb dse\"><span data-translation-id=\"recipe-detail.cooking-time\">Prep Time</span></span><span class=\"dsa dsb dsc dsd dse dscz\">10 minutes</span></div><div class=\"fela-_19qpnoj\"><span class=\"dsa dsb dsc dscb dse\"><span data-translation-id=\"recipe-detail.cooking-difficulty\">Cooking difficulty</span></span><span class=\"dsa dsb dsc dsd dse dscz\"><span data-translation-id=\"recipe-detail.level-number-2\">Medium</span></span></div></div>"
      ]
     },
     "execution_count": 7,
     "metadata": {},
     "output_type": "execute_result"
    }
   ],
   "source": [
    "dif_details = soup.find(class_=\"fela-_1slhjvb\")\n",
    "dif_details"
   ]
  },
  {
   "cell_type": "code",
   "execution_count": 8,
   "metadata": {},
   "outputs": [
    {
     "name": "stdout",
     "output_type": "stream",
     "text": [
      "<div class=\"fela-_19qpnoj\"><span class=\"dsa dsb dsc dscb dse\"><span data-translation-id=\"recipe-detail.preparation-time\">Total Time</span></span><span class=\"dsa dsb dsc dsd dse dscz\">20 minutes</span></div>\n"
     ]
    }
   ],
   "source": [
    "test_time=dif_details.find_all(class_=\"fela-_19qpnoj\")[0]\n",
    "print(test_time)"
   ]
  },
  {
   "cell_type": "code",
   "execution_count": 9,
   "metadata": {},
   "outputs": [
    {
     "name": "stdout",
     "output_type": "stream",
     "text": [
      "<div class=\"fela-_19qpnoj\"><span class=\"dsa dsb dsc dscb dse\"><span data-translation-id=\"recipe-detail.cooking-difficulty\">Cooking difficulty</span></span><span class=\"dsa dsb dsc dsd dse dscz\"><span data-translation-id=\"recipe-detail.level-number-2\">Medium</span></span></div>\n"
     ]
    }
   ],
   "source": [
    "dif_2=dif_details.find_all(class_=\"fela-_19qpnoj\")[2]\n",
    "print(dif_2)"
   ]
  },
  {
   "cell_type": "code",
   "execution_count": 10,
   "metadata": {},
   "outputs": [
    {
     "data": {
      "text/plain": [
       "'Medium'"
      ]
     },
     "execution_count": 10,
     "metadata": {},
     "output_type": "execute_result"
    }
   ],
   "source": [
    "dif_3=dif_2.find(class_=\"dsa dsb dsc dsd dse dscz\")\n",
    "difficulty=dif_3.text\n",
    "difficulty"
   ]
  },
  {
   "cell_type": "code",
   "execution_count": null,
   "metadata": {},
   "outputs": [],
   "source": []
  }
 ],
 "metadata": {
  "kernelspec": {
   "display_name": "Python 3",
   "language": "python",
   "name": "python3"
  },
  "language_info": {
   "codemirror_mode": {
    "name": "ipython",
    "version": 3
   },
   "file_extension": ".py",
   "mimetype": "text/x-python",
   "name": "python",
   "nbconvert_exporter": "python",
   "pygments_lexer": "ipython3",
   "version": "3.6.10"
  }
 },
 "nbformat": 4,
 "nbformat_minor": 4
}

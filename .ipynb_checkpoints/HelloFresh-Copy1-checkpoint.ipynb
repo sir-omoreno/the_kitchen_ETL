{
 "cells": [
  {
   "cell_type": "code",
   "execution_count": 1,
   "metadata": {},
   "outputs": [],
   "source": [
    "from splinter import Browser\n",
    "from bs4 import BeautifulSoup\n",
    "from webdriver_manager.chrome import ChromeDriverManager\n",
    "import time\n",
    "import requests\n",
    "import json\n",
    "import re"
   ]
  },
  {
   "cell_type": "code",
   "execution_count": 2,
   "metadata": {},
   "outputs": [
    {
     "name": "stderr",
     "output_type": "stream",
     "text": [
      "[WDM] - Current google-chrome version is 86.0.4240\n",
      "[WDM] - Get LATEST driver version for 86.0.4240\n",
      "[WDM] - Driver [/Users/rachelchan/.wdm/drivers/chromedriver/mac64/86.0.4240.22/chromedriver] found in cache\n"
     ]
    },
    {
     "name": "stdout",
     "output_type": "stream",
     "text": [
      " \n"
     ]
    }
   ],
   "source": [
    "executable_path = {'executable_path': ChromeDriverManager().install()}\n",
    "browser = Browser('chrome', **executable_path, headless=False)"
   ]
  },
  {
   "cell_type": "code",
   "execution_count": 3,
   "metadata": {},
   "outputs": [],
   "source": [
    "url = 'https://www.hellofresh.com/recipes/most-popular-recipes'\n",
    "\n",
    "response = requests.get(url)\n",
    "\n",
    "browser.visit(url)\n",
    "soup = BeautifulSoup(response.text, 'html.parser')"
   ]
  },
  {
   "cell_type": "code",
   "execution_count": 4,
   "metadata": {},
   "outputs": [
    {
     "data": {
      "text/plain": [
       "<div class=\"dsw dsx dsy dsz dsab dsac dsae dsaf dsag dsah dsai dsaj dsak dsam dsan\"><div class=\"dsav dsab dsaw dsax dsdl dsf dsay dsaz dsba dsbb dsbc dsbd dsbe dsbf\"><div class=\"dsdz\"><h2 class=\"dsdp dsea dseb dsbm dsds dsdt dsec dsed dsee\" data-test-id=\"recipe-title-link\"></h2><p class=\"dsbl dscj dsdx dsbm dsef dsau\"></p></div></div><div class=\"dsav dsab dsaw dsax dsdl dsf dsay dsaz dsba dsbb dseg dseh dsbc dsbd dsei dsej dsbe dsbf\"><div class=\"dsek\"><div class=\"dsbh dsel dsem\"><noscript><a class=\"dsbi dscb dscc dsb dsbh\" href=\"/recipes/smokehouse-pulled-chicken-bowls-5f5fa43ab7994b69f050a7e4\"><img alt=\"Smokehouse Pulled Chicken Bowls image\" class=\"dsen dsbh\" src=\"https://img.hellofresh.com/f_auto,fl_lossy,q_auto,w_300/hellofresh_s3/image/smokehouse-pulled-chicken-bowls-e6772b98.jpg\" srcset=\"https://img.hellofresh.com/f_auto,fl_lossy,q_auto,w_300/hellofresh_s3/image/smokehouse-pulled-chicken-bowls-e6772b98.jpg 1x,https://img.hellofresh.com/f_auto,fl_lossy,q_auto,w_600/hellofresh_s3/image/smokehouse-pulled-chicken-bowls-e6772b98.jpg 2x\"/></a></noscript></div><h3 class=\"dsdp dscj dsdx dsbm dsds dsdt dseo\" data-test-id=\"recipe-title\">Smokehouse Pulled Chicken Bowls</h3><p class=\"dsbl dsep dseq dsbm dser dsee dses\">with Buttery Jalapeño Corn, Pickled Shallot &amp; Lime Crema</p></div></div><div class=\"dsav dsab dsaw dsax dsdl dsf dsay dsaz dsba dsbb dseg dseh dsbc dsbd dsei dsej dsbe dsbf\"><div class=\"dsek\"><div class=\"dsbh dsel dsem\"><noscript><a class=\"dsbi dscb dscc dsb dsbh\" href=\"/recipes/bavette-steak-in-a-mushroom-sauce-5f5fa397b40eb17692407012\"><img alt=\"Bavette Steak in a Mushroom Sauce image\" class=\"dsen dsbh\" src=\"https://img.hellofresh.com/f_auto,fl_lossy,q_auto,w_300/hellofresh_s3/image/5f5fa397b40eb17692407012-5cd83cd4.jpg\" srcset=\"https://img.hellofresh.com/f_auto,fl_lossy,q_auto,w_300/hellofresh_s3/image/5f5fa397b40eb17692407012-5cd83cd4.jpg 1x,https://img.hellofresh.com/f_auto,fl_lossy,q_auto,w_600/hellofresh_s3/image/5f5fa397b40eb17692407012-5cd83cd4.jpg 2x\"/></a></noscript></div><h3 class=\"dsdp dscj dsdx dsbm dsds dsdt dseo\" data-test-id=\"recipe-title\">Bavette Steak in a Mushroom Sauce</h3><p class=\"dsbl dsep dseq dsbm dser dsee dses\">with Caramelized Onion Mashed Potatoes &amp; Roasted Carrots</p></div></div><div class=\"dsav dsab dsaw dsax dsdl dsf dsay dsaz dsba dsbb dseg dseh dsbc dsbd dsei dsej dsbe dsbf\"><div class=\"dsek\"><div class=\"dsbh dsel dsem\"><noscript><a class=\"dsbi dscb dscc dsb dsbh\" href=\"/recipes/chicken-sausage-rigatoni-5ecd53441e4833321621f90a\"><img alt=\"Chicken Sausage Rigatoni image\" class=\"dsen dsbh\" src=\"https://img.hellofresh.com/f_auto,fl_lossy,q_auto,w_300/hellofresh_s3/image/chicken-sausage-rigatoni-55b440ed.jpg\" srcset=\"https://img.hellofresh.com/f_auto,fl_lossy,q_auto,w_300/hellofresh_s3/image/chicken-sausage-rigatoni-55b440ed.jpg 1x,https://img.hellofresh.com/f_auto,fl_lossy,q_auto,w_600/hellofresh_s3/image/chicken-sausage-rigatoni-55b440ed.jpg 2x\"/></a></noscript></div><h3 class=\"dsdp dscj dsdx dsbm dsds dsdt dseo\" data-test-id=\"recipe-title\">Chicken Sausage Rigatoni</h3><p class=\"dsbl dsep dseq dsbm dser dsee dses\">in a Creamy Pink Sauce with Bell Pepper &amp; Parmesan</p></div></div><div class=\"dsav dsab dsaw dsax dsdl dsf dsay dsaz dsba dsbb dseg dseh dsbc dsbd dsei dsej dsbe dsbf\"><div class=\"dsek\"><div class=\"dsbh dsel dsem\"><noscript><a class=\"dsbi dscb dscc dsb dsbh\" href=\"/recipes/el-paso-pork-burgers-5e5eab64ce72995cc061a4d0\"><img alt=\"El Paso Pork Burgers image\" class=\"dsen dsbh\" src=\"https://img.hellofresh.com/f_auto,fl_lossy,q_auto,w_300/hellofresh_s3/image/el-paso-pork-burgers-aff46e9e.jpg\" srcset=\"https://img.hellofresh.com/f_auto,fl_lossy,q_auto,w_300/hellofresh_s3/image/el-paso-pork-burgers-aff46e9e.jpg 1x,https://img.hellofresh.com/f_auto,fl_lossy,q_auto,w_600/hellofresh_s3/image/el-paso-pork-burgers-aff46e9e.jpg 2x\"/></a></noscript></div><h3 class=\"dsdp dscj dsdx dsbm dsds dsdt dseo\" data-test-id=\"recipe-title\">El Paso Pork Burgers</h3><p class=\"dsbl dsep dseq dsbm dser dsee dses\">stuffed with Monterey Jack &amp; served with Potato Wedges</p></div></div><div class=\"dsav dsab dsaw dsax dsdl dsf dsay dsaz dsba dsbb dseg dseh dsbc dsbd dsei dsej dsbe dsbf\"><div class=\"dsek\"><div class=\"dsbh dsel dsem\"><noscript><a class=\"dsbi dscb dscc dsb dsbh\" href=\"/recipes/italian-noodle-soup-5f737673404ccc15743d7202\"><img alt=\"Italian Noodle Soup image\" class=\"dsen dsbh\" src=\"https://img.hellofresh.com/f_auto,fl_lossy,q_auto,w_300/hellofresh_s3/image/5f737673404ccc15743d7202-1ef42d86.jpg\" srcset=\"https://img.hellofresh.com/f_auto,fl_lossy,q_auto,w_300/hellofresh_s3/image/5f737673404ccc15743d7202-1ef42d86.jpg 1x,https://img.hellofresh.com/f_auto,fl_lossy,q_auto,w_600/hellofresh_s3/image/5f737673404ccc15743d7202-1ef42d86.jpg 2x\"/></a></noscript></div><h3 class=\"dsdp dscj dsdx dsbm dsds dsdt dseo\" data-test-id=\"recipe-title\">Italian Noodle Soup</h3><p class=\"dsbl dsep dseq dsbm dser dsee dses\">with Chicken Sausage, Farfalle Pasta &amp; Parmesan Toasts</p></div></div><div class=\"dsav dsab dsaw dsax dsdl dsf dsay dsaz dsba dsbb dseg dseh dsbc dsbd dsei dsej dsbe dsbf\"><div class=\"dsek\"><div class=\"dsbh dsel dsem\"><noscript><a class=\"dsbi dscb dscc dsb dsbh\" href=\"/recipes/salsa-verde-enchiladas-5f68fc1cfa74764480425bc6\"><img alt=\"Salsa Verde Enchiladas image\" class=\"dsen dsbh\" src=\"https://img.hellofresh.com/f_auto,fl_lossy,q_auto,w_300/hellofresh_s3/image/5f68fc1cfa74764480425bc6-b3fc7c04.jpg\" srcset=\"https://img.hellofresh.com/f_auto,fl_lossy,q_auto,w_300/hellofresh_s3/image/5f68fc1cfa74764480425bc6-b3fc7c04.jpg 1x,https://img.hellofresh.com/f_auto,fl_lossy,q_auto,w_600/hellofresh_s3/image/5f68fc1cfa74764480425bc6-b3fc7c04.jpg 2x\"/></a></noscript></div><h3 class=\"dsdp dscj dsdx dsbm dsds dsdt dseo\" data-test-id=\"recipe-title\">Salsa Verde Enchiladas</h3><p class=\"dsbl dsep dseq dsbm dser dsee dses\">with Poblano Pepper, Black Beans &amp; Monterey Jack</p></div></div><div class=\"dsav dsab dsaw dsax dsdl dsf dsay dsaz dsba dsbb dseg dseh dsbc dsbd dsei dsej dsbe dsbf\"><div class=\"dsek\"><div class=\"dsbh dsel dsem\"><noscript><a class=\"dsbi dscb dscc dsb dsbh\" href=\"/recipes/bayou-blackened-chicken-legs-5f7dd338b946ac119b494e52\"><img alt=\"Bayou Blackened Chicken Legs image\" class=\"dsen dsbh\" src=\"https://img.hellofresh.com/f_auto,fl_lossy,q_auto,w_300/hellofresh_s3/image/bayou-blackened-chicken-legs-3f123b58.jpg\" srcset=\"https://img.hellofresh.com/f_auto,fl_lossy,q_auto,w_300/hellofresh_s3/image/bayou-blackened-chicken-legs-3f123b58.jpg 1x,https://img.hellofresh.com/f_auto,fl_lossy,q_auto,w_600/hellofresh_s3/image/bayou-blackened-chicken-legs-3f123b58.jpg 2x\"/></a></noscript></div><h3 class=\"dsdp dscj dsdx dsbm dsds dsdt dseo\" data-test-id=\"recipe-title\">Bayou Blackened Chicken Legs</h3><p class=\"dsbl dsep dseq dsbm dser dsee dses\">with Smoky Red Beans, Buttery Rice &amp; Hot Sauce Crema</p></div></div><div class=\"dsav dsab dsaw dsax dsdl dsf dsay dsaz dsba dsbb dseg dseh dsbc dsbd dsei dsej dsbe dsbf\"><div class=\"dsek\"><div class=\"dsbh dsel dsem\"><noscript><a class=\"dsbi dscb dscc dsb dsbh\" href=\"/recipes/tilapia-with-scallion-sriracha-pesto-5f737650983fdb0c7c30d18c\"><img alt=\"Tilapia with Scallion Sriracha Pesto image\" class=\"dsen dsbh\" src=\"https://img.hellofresh.com/f_auto,fl_lossy,q_auto,w_300/hellofresh_s3/image/5f737650983fdb0c7c30d18c-747bbfb7.jpg\" srcset=\"https://img.hellofresh.com/f_auto,fl_lossy,q_auto,w_300/hellofresh_s3/image/5f737650983fdb0c7c30d18c-747bbfb7.jpg 1x,https://img.hellofresh.com/f_auto,fl_lossy,q_auto,w_600/hellofresh_s3/image/5f737650983fdb0c7c30d18c-747bbfb7.jpg 2x\"/></a></noscript></div><h3 class=\"dsdp dscj dsdx dsbm dsds dsdt dseo\" data-test-id=\"recipe-title\">Tilapia with Scallion Sriracha Pesto</h3><p class=\"dsbl dsep dseq dsbm dser dsee dses\">over Ginger Rice with Green Beans</p></div></div></div>"
      ]
     },
     "execution_count": 4,
     "metadata": {},
     "output_type": "execute_result"
    }
   ],
   "source": [
    "# Create list of urls\n",
    "end_url = []\n",
    "base_url= 'https://www.hellofresh.com'\n",
    "\n",
    "step1 = soup.find(class_=\"dsw dsx dsy dsz dsab dsac dsae dsaf dsag dsah dsai dsaj dsak dsam dsan\")\n",
    "\n",
    "step1\n"
   ]
  },
  {
   "cell_type": "code",
   "execution_count": 14,
   "metadata": {},
   "outputs": [
    {
     "data": {
      "text/plain": [
       "[<a class=\"dsbi dscb dscc dsb dsbh\" href=\"/recipes/smokehouse-pulled-chicken-bowls-5f5fa43ab7994b69f050a7e4\"><img alt=\"Smokehouse Pulled Chicken Bowls image\" class=\"dsen dsbh\" src=\"https://img.hellofresh.com/f_auto,fl_lossy,q_auto,w_300/hellofresh_s3/image/smokehouse-pulled-chicken-bowls-e6772b98.jpg\" srcset=\"https://img.hellofresh.com/f_auto,fl_lossy,q_auto,w_300/hellofresh_s3/image/smokehouse-pulled-chicken-bowls-e6772b98.jpg 1x,https://img.hellofresh.com/f_auto,fl_lossy,q_auto,w_600/hellofresh_s3/image/smokehouse-pulled-chicken-bowls-e6772b98.jpg 2x\"/></a>,\n",
       " <a class=\"dsbi dscb dscc dsb dsbh\" href=\"/recipes/bavette-steak-in-a-mushroom-sauce-5f5fa397b40eb17692407012\"><img alt=\"Bavette Steak in a Mushroom Sauce image\" class=\"dsen dsbh\" src=\"https://img.hellofresh.com/f_auto,fl_lossy,q_auto,w_300/hellofresh_s3/image/5f5fa397b40eb17692407012-5cd83cd4.jpg\" srcset=\"https://img.hellofresh.com/f_auto,fl_lossy,q_auto,w_300/hellofresh_s3/image/5f5fa397b40eb17692407012-5cd83cd4.jpg 1x,https://img.hellofresh.com/f_auto,fl_lossy,q_auto,w_600/hellofresh_s3/image/5f5fa397b40eb17692407012-5cd83cd4.jpg 2x\"/></a>,\n",
       " <a class=\"dsbi dscb dscc dsb dsbh\" href=\"/recipes/chicken-sausage-rigatoni-5ecd53441e4833321621f90a\"><img alt=\"Chicken Sausage Rigatoni image\" class=\"dsen dsbh\" src=\"https://img.hellofresh.com/f_auto,fl_lossy,q_auto,w_300/hellofresh_s3/image/chicken-sausage-rigatoni-55b440ed.jpg\" srcset=\"https://img.hellofresh.com/f_auto,fl_lossy,q_auto,w_300/hellofresh_s3/image/chicken-sausage-rigatoni-55b440ed.jpg 1x,https://img.hellofresh.com/f_auto,fl_lossy,q_auto,w_600/hellofresh_s3/image/chicken-sausage-rigatoni-55b440ed.jpg 2x\"/></a>,\n",
       " <a class=\"dsbi dscb dscc dsb dsbh\" href=\"/recipes/el-paso-pork-burgers-5e5eab64ce72995cc061a4d0\"><img alt=\"El Paso Pork Burgers image\" class=\"dsen dsbh\" src=\"https://img.hellofresh.com/f_auto,fl_lossy,q_auto,w_300/hellofresh_s3/image/el-paso-pork-burgers-aff46e9e.jpg\" srcset=\"https://img.hellofresh.com/f_auto,fl_lossy,q_auto,w_300/hellofresh_s3/image/el-paso-pork-burgers-aff46e9e.jpg 1x,https://img.hellofresh.com/f_auto,fl_lossy,q_auto,w_600/hellofresh_s3/image/el-paso-pork-burgers-aff46e9e.jpg 2x\"/></a>,\n",
       " <a class=\"dsbi dscb dscc dsb dsbh\" href=\"/recipes/italian-noodle-soup-5f737673404ccc15743d7202\"><img alt=\"Italian Noodle Soup image\" class=\"dsen dsbh\" src=\"https://img.hellofresh.com/f_auto,fl_lossy,q_auto,w_300/hellofresh_s3/image/5f737673404ccc15743d7202-1ef42d86.jpg\" srcset=\"https://img.hellofresh.com/f_auto,fl_lossy,q_auto,w_300/hellofresh_s3/image/5f737673404ccc15743d7202-1ef42d86.jpg 1x,https://img.hellofresh.com/f_auto,fl_lossy,q_auto,w_600/hellofresh_s3/image/5f737673404ccc15743d7202-1ef42d86.jpg 2x\"/></a>,\n",
       " <a class=\"dsbi dscb dscc dsb dsbh\" href=\"/recipes/salsa-verde-enchiladas-5f68fc1cfa74764480425bc6\"><img alt=\"Salsa Verde Enchiladas image\" class=\"dsen dsbh\" src=\"https://img.hellofresh.com/f_auto,fl_lossy,q_auto,w_300/hellofresh_s3/image/5f68fc1cfa74764480425bc6-b3fc7c04.jpg\" srcset=\"https://img.hellofresh.com/f_auto,fl_lossy,q_auto,w_300/hellofresh_s3/image/5f68fc1cfa74764480425bc6-b3fc7c04.jpg 1x,https://img.hellofresh.com/f_auto,fl_lossy,q_auto,w_600/hellofresh_s3/image/5f68fc1cfa74764480425bc6-b3fc7c04.jpg 2x\"/></a>,\n",
       " <a class=\"dsbi dscb dscc dsb dsbh\" href=\"/recipes/bayou-blackened-chicken-legs-5f7dd338b946ac119b494e52\"><img alt=\"Bayou Blackened Chicken Legs image\" class=\"dsen dsbh\" src=\"https://img.hellofresh.com/f_auto,fl_lossy,q_auto,w_300/hellofresh_s3/image/bayou-blackened-chicken-legs-3f123b58.jpg\" srcset=\"https://img.hellofresh.com/f_auto,fl_lossy,q_auto,w_300/hellofresh_s3/image/bayou-blackened-chicken-legs-3f123b58.jpg 1x,https://img.hellofresh.com/f_auto,fl_lossy,q_auto,w_600/hellofresh_s3/image/bayou-blackened-chicken-legs-3f123b58.jpg 2x\"/></a>,\n",
       " <a class=\"dsbi dscb dscc dsb dsbh\" href=\"/recipes/tilapia-with-scallion-sriracha-pesto-5f737650983fdb0c7c30d18c\"><img alt=\"Tilapia with Scallion Sriracha Pesto image\" class=\"dsen dsbh\" src=\"https://img.hellofresh.com/f_auto,fl_lossy,q_auto,w_300/hellofresh_s3/image/5f737650983fdb0c7c30d18c-747bbfb7.jpg\" srcset=\"https://img.hellofresh.com/f_auto,fl_lossy,q_auto,w_300/hellofresh_s3/image/5f737650983fdb0c7c30d18c-747bbfb7.jpg 1x,https://img.hellofresh.com/f_auto,fl_lossy,q_auto,w_600/hellofresh_s3/image/5f737650983fdb0c7c30d18c-747bbfb7.jpg 2x\"/></a>]"
      ]
     },
     "execution_count": 14,
     "metadata": {},
     "output_type": "execute_result"
    }
   ],
   "source": [
    "step2=step1.find_all(\"a\", href=True)\n",
    "step2\n",
    "                     \n",
    "                     \n",
    "                     "
   ]
  },
  {
   "cell_type": "code",
   "execution_count": 18,
   "metadata": {},
   "outputs": [
    {
     "data": {
      "text/plain": [
       "['/recipes/smokehouse-pulled-chicken-bowls-5f5fa43ab7994b69f050a7e4',\n",
       " '/recipes/bavette-steak-in-a-mushroom-sauce-5f5fa397b40eb17692407012',\n",
       " '/recipes/chicken-sausage-rigatoni-5ecd53441e4833321621f90a',\n",
       " '/recipes/el-paso-pork-burgers-5e5eab64ce72995cc061a4d0',\n",
       " '/recipes/italian-noodle-soup-5f737673404ccc15743d7202',\n",
       " '/recipes/salsa-verde-enchiladas-5f68fc1cfa74764480425bc6',\n",
       " '/recipes/bayou-blackened-chicken-legs-5f7dd338b946ac119b494e52',\n",
       " '/recipes/tilapia-with-scallion-sriracha-pesto-5f737650983fdb0c7c30d18c']"
      ]
     },
     "execution_count": 18,
     "metadata": {},
     "output_type": "execute_result"
    }
   ],
   "source": [
    "link_list = [a['href'] for a in step2]\n",
    "link_list"
   ]
  },
  {
   "cell_type": "code",
   "execution_count": 26,
   "metadata": {},
   "outputs": [
    {
     "data": {
      "text/plain": [
       "['https://www.hellofresh.com/recipes/smokehouse-pulled-chicken-bowls-5f5fa43ab7994b69f050a7e4',\n",
       " 'https://www.hellofresh.com/recipes/bavette-steak-in-a-mushroom-sauce-5f5fa397b40eb17692407012',\n",
       " 'https://www.hellofresh.com/recipes/chicken-sausage-rigatoni-5ecd53441e4833321621f90a',\n",
       " 'https://www.hellofresh.com/recipes/el-paso-pork-burgers-5e5eab64ce72995cc061a4d0',\n",
       " 'https://www.hellofresh.com/recipes/italian-noodle-soup-5f737673404ccc15743d7202',\n",
       " 'https://www.hellofresh.com/recipes/salsa-verde-enchiladas-5f68fc1cfa74764480425bc6',\n",
       " 'https://www.hellofresh.com/recipes/bayou-blackened-chicken-legs-5f7dd338b946ac119b494e52',\n",
       " 'https://www.hellofresh.com/recipes/tilapia-with-scallion-sriracha-pesto-5f737650983fdb0c7c30d18c']"
      ]
     },
     "execution_count": 26,
     "metadata": {},
     "output_type": "execute_result"
    }
   ],
   "source": [
    "# Adding pieces together to make full link list\n",
    "def preprend (link_list, base_url):\n",
    "    base_url += '{0}'\n",
    "    link_list = [base_url.format(i) for i in link_list]\n",
    "    return(link_list)\n",
    "full_link_list=preprend(link_list, base_url)\n",
    "full_link_list\n",
    "    "
   ]
  },
  {
   "cell_type": "code",
   "execution_count": 27,
   "metadata": {},
   "outputs": [
    {
     "name": "stdout",
     "output_type": "stream",
     "text": [
      "[{'recipe_name': 'Smokehouse Pulled Chicken Bowls', 'total_time': '20 minutes', 'difficulty': 'Medium', 'ingredients': []}]\n",
      "[{'recipe_name': 'Bavette Steak in a Mushroom Sauce', 'total_time': '50 minutes', 'difficulty': 'Medium', 'ingredients': ['1 unit Yellow Onion', '1 clove Garlic', '12 ounce Carrots', '4 ounce Button Mushrooms', '16 ounce Yukon Gold Potatoes', '2 tablespoon Sour Cream', '10 ounce Bavette Steak', '1 unit Beef Demi-Glace', '2 teaspoon Dijon Mustard']}]\n"
     ]
    },
    {
     "ename": "IndexError",
     "evalue": "list index out of range",
     "output_type": "error",
     "traceback": [
      "\u001b[0;31m---------------------------------------------------------------------------\u001b[0m",
      "\u001b[0;31mIndexError\u001b[0m                                Traceback (most recent call last)",
      "\u001b[0;32m<ipython-input-27-81caffe55f82>\u001b[0m in \u001b[0;36m<module>\u001b[0;34m\u001b[0m\n\u001b[1;32m     43\u001b[0m     \u001b[0;31m#Difficulty\u001b[0m\u001b[0;34m\u001b[0m\u001b[0;34m\u001b[0m\u001b[0;34m\u001b[0m\u001b[0m\n\u001b[1;32m     44\u001b[0m     \u001b[0mdif_details\u001b[0m \u001b[0;34m=\u001b[0m \u001b[0mrecipe_soup\u001b[0m\u001b[0;34m.\u001b[0m\u001b[0mfind\u001b[0m\u001b[0;34m(\u001b[0m\u001b[0mclass_\u001b[0m\u001b[0;34m=\u001b[0m\u001b[0;34m\"fela-_1slhjvb\"\u001b[0m\u001b[0;34m)\u001b[0m\u001b[0;34m\u001b[0m\u001b[0;34m\u001b[0m\u001b[0m\n\u001b[0;32m---> 45\u001b[0;31m     \u001b[0mdif_2\u001b[0m\u001b[0;34m=\u001b[0m\u001b[0mdif_details\u001b[0m\u001b[0;34m.\u001b[0m\u001b[0mfind_all\u001b[0m\u001b[0;34m(\u001b[0m\u001b[0mclass_\u001b[0m\u001b[0;34m=\u001b[0m\u001b[0;34m\"fela-_19qpnoj\"\u001b[0m\u001b[0;34m)\u001b[0m\u001b[0;34m[\u001b[0m\u001b[0;36m2\u001b[0m\u001b[0;34m]\u001b[0m\u001b[0;34m\u001b[0m\u001b[0;34m\u001b[0m\u001b[0m\n\u001b[0m\u001b[1;32m     46\u001b[0m     \u001b[0mdif_3\u001b[0m\u001b[0;34m=\u001b[0m\u001b[0mdif_2\u001b[0m\u001b[0;34m.\u001b[0m\u001b[0mfind\u001b[0m\u001b[0;34m(\u001b[0m\u001b[0mclass_\u001b[0m\u001b[0;34m=\u001b[0m\u001b[0;34m\"dsa dsb dsc dsd dse dscz\"\u001b[0m\u001b[0;34m)\u001b[0m\u001b[0;34m\u001b[0m\u001b[0;34m\u001b[0m\u001b[0m\n\u001b[1;32m     47\u001b[0m     \u001b[0mdifficulty\u001b[0m\u001b[0;34m=\u001b[0m\u001b[0mdif_3\u001b[0m\u001b[0;34m.\u001b[0m\u001b[0mtext\u001b[0m\u001b[0;34m\u001b[0m\u001b[0;34m\u001b[0m\u001b[0m\n",
      "\u001b[0;31mIndexError\u001b[0m: list index out of range"
     ]
    }
   ],
   "source": [
    "#Using splinter to click each recipe\n",
    "\n",
    "# links = browser.find_by_text('Get Recipe')\n",
    "# links.click()\n",
    "\n",
    "\n",
    "\n",
    "# soup = BeautifulSoup(response.text, 'html.parser')\n",
    "# print(soup.prettify())\n",
    "# name=soup.find(\"h1\")\n",
    "\n",
    "\n",
    "\n",
    "for rlinks in full_link_list:\n",
    "    \n",
    "    #BROWSER NAV TO PAGE\n",
    "    browser.visit(rlinks)\n",
    "    #import soup again\n",
    "    recipe_html=browser.html\n",
    "    recipe_soup = BeautifulSoup(recipe_html,'html.parser')\n",
    "    \n",
    "    #Storing a dictionary of data\n",
    "    extracted_data = []\n",
    "\n",
    "    #variables\n",
    "    # name=[]\n",
    "    # total_time=[]\n",
    "    # difficulty=[]\n",
    "\n",
    "    #variables = [name, difficulty]\n",
    "\n",
    "    #for variable in variables:\n",
    "\n",
    "\n",
    "    #Defining variables\n",
    "    name=recipe_soup.find(\"h1\").text\n",
    "\n",
    "    #Time\n",
    "    t_details =recipe_soup.find(class_=\"fela-_19qpnoj\")\n",
    "    time_class=t_details.find(class_=\"dsa dsb dsc dsd dse dscz\")\n",
    "    total_time=time_class.text\n",
    "\n",
    "    #Difficulty\n",
    "    dif_details = recipe_soup.find(class_=\"fela-_1slhjvb\")\n",
    "    dif_2=dif_details.find_all(class_=\"fela-_19qpnoj\")[2]\n",
    "    dif_3=dif_2.find(class_=\"dsa dsb dsc dsd dse dscz\")\n",
    "    difficulty=dif_3.text\n",
    "\n",
    "    #Ingredient list. Developing from hierarchy of tags\n",
    "    ing_1=recipe_soup.find(\"div\", class_=\"fela-_14s1ns7\")\n",
    "    ing_2=ing_1.find(class_=\"dsav dsaw dsax dsay dsg dsaz dsba dsbb dsbc dsbd dsbe dsbf dsbg dsbh dsbi\")\n",
    "\n",
    "    #They seem to regularly update this tag, so make sure it works\n",
    "\n",
    "    ing_3=ing_2.find_all(class_=\"dsa dscs dsgb dsd dse dsbt dsgc\")  \n",
    "    ing_3=ing_2.find_all(class_=\"dsa dscs dsge dsd dse dsbt dsgf\")\n",
    "\n",
    "    #For loop to extract text from p tags and append to dictionary\n",
    "    ingredients =[]\n",
    "\n",
    "    for entries in ing_3:\n",
    "        ingredients.append(entries.text)\n",
    "\n",
    "    ingredients_new = [' '.join(x) for x in zip(ingredients[0::2], ingredients[1::2])]\n",
    "\n",
    "\n",
    "    record = {'recipe_name': name,\n",
    "              'total_time': total_time,\n",
    "              'difficulty': difficulty,\n",
    "              'ingredients': ingredients_new\n",
    "              }\n",
    "\n",
    "    #Printing data\n",
    "    extracted_data.append(record)\n",
    "    print(extracted_data)\n",
    "    \n",
    "    time.sleep(10)\n",
    "\n",
    "\n",
    "\n",
    "with open('hf_test_recipes.json', 'w') as f:\n",
    "    json.dump(extracted_data, f, indent=4, ensure_ascii=False)\n",
    "\n",
    "\n",
    "\n",
    "\n",
    "# for link in links:\n",
    "#     link.click()\n",
    "    \n",
    "    \n",
    "#     html=browser.html\n",
    "#     soup=BeautifulSoup(html, 'html.parser')\n",
    "    \n",
    "#     browser.back()\n",
    "    #time.sleep(2)\n",
    "\n",
    "\n"
   ]
  },
  {
   "cell_type": "code",
   "execution_count": null,
   "metadata": {},
   "outputs": [],
   "source": []
  }
 ],
 "metadata": {
  "kernelspec": {
   "display_name": "Python 3",
   "language": "python",
   "name": "python3"
  },
  "language_info": {
   "codemirror_mode": {
    "name": "ipython",
    "version": 3
   },
   "file_extension": ".py",
   "mimetype": "text/x-python",
   "name": "python",
   "nbconvert_exporter": "python",
   "pygments_lexer": "ipython3",
   "version": "3.6.10"
  }
 },
 "nbformat": 4,
 "nbformat_minor": 4
}

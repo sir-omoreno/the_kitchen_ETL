{
 "cells": [
  {
   "cell_type": "code",
   "execution_count": 1,
   "metadata": {},
   "outputs": [],
   "source": [
    "from splinter import Browser\n",
    "from bs4 import BeautifulSoup\n",
    "from webdriver_manager.chrome import ChromeDriverManager\n",
    "import time\n",
    "import requests\n",
    "import json\n",
    "import re"
   ]
  },
  {
   "cell_type": "code",
   "execution_count": 2,
   "metadata": {},
   "outputs": [
    {
     "name": "stderr",
     "output_type": "stream",
     "text": [
      "[WDM] - Current google-chrome version is 86.0.4240\n",
      "[WDM] - Get LATEST driver version for 86.0.4240\n"
     ]
    },
    {
     "name": "stdout",
     "output_type": "stream",
     "text": [
      " \n"
     ]
    },
    {
     "name": "stderr",
     "output_type": "stream",
     "text": [
      "[WDM] - Driver [/Users/rachelchan/.wdm/drivers/chromedriver/mac64/86.0.4240.22/chromedriver] found in cache\n"
     ]
    }
   ],
   "source": [
    "executable_path = {'executable_path': ChromeDriverManager().install()}\n",
    "browser = Browser('chrome', **executable_path, headless=False)"
   ]
  },
  {
   "cell_type": "code",
   "execution_count": 3,
   "metadata": {},
   "outputs": [],
   "source": [
    "url = 'https://www.hellofresh.com/recipes/smokehouse-pulled-chicken-bowls-5f5fa43ab7994b69f050a7e4'\n",
    "\n",
    "response = requests.get(url)\n",
    "\n",
    "browser.visit(url)\n"
   ]
  },
  {
   "cell_type": "code",
   "execution_count": 49,
   "metadata": {},
   "outputs": [
    {
     "name": "stdout",
     "output_type": "stream",
     "text": [
      "[{'recipe_name': 'Smokehouse Pulled Chicken Bowls', 'total_time': '20 minutes', 'ingredients': []}]\n"
     ]
    }
   ],
   "source": [
    "#Using splinter to click each recipe\n",
    "\n",
    "# links = browser.find_by_text('Get Recipe')\n",
    "# links.click()\n",
    "\n",
    "\n",
    "\n",
    "soup = BeautifulSoup(response.text, 'html.parser')\n",
    "# print(soup.prettify())\n",
    "# name=soup.find(\"h1\")\n",
    "\n",
    "\n",
    "\n",
    "\n",
    "#Storing a dictionary of data\n",
    "extracted_data = []\n",
    "\n",
    "#variables\n",
    "# name=[]\n",
    "# total_time=[]\n",
    "# difficulty=[]\n",
    "\n",
    "#variables = [name, difficulty]\n",
    "\n",
    "#for variable in variables:\n",
    "    \n",
    "name=soup.find(\"h1\").text\n",
    "total_time=soup.find(class_=\"dsa dsb dsc dsd dse dscz\").text\n",
    "# ingredients=soup.find_all(class_=\"fela-_71c2k1\")\n",
    "\n",
    "#difficulty=soup.select_one(\"#recipe-detail-fragment\").text\n",
    "   \n",
    "\n",
    "record = {'recipe_name': name,\n",
    "          'total_time': total_time,\n",
    "          'ingredients': ingredients\n",
    "          }\n",
    "extracted_data.append(record)\n",
    "print(extracted_data)\n",
    "\n",
    "\n",
    "\n",
    "with open('hf2_recipes.json', 'w') as f:\n",
    "    json.dump(extracted_data, f, indent=4, ensure_ascii=False)\n",
    "\n",
    "\n",
    "\n",
    "\n",
    "# for link in links:\n",
    "#     link.click()\n",
    "    \n",
    "    \n",
    "#     html=browser.html\n",
    "#     soup=BeautifulSoup(html, 'html.parser')\n",
    "    \n",
    "#     browser.back()\n",
    "    #time.sleep(2)\n",
    "\n",
    "\n"
   ]
  },
  {
   "cell_type": "code",
   "execution_count": 5,
   "metadata": {},
   "outputs": [
    {
     "data": {
      "text/plain": [
       "<div class=\"fela-_14s1ns7\" data-test-id=\"recipeDetailFragment.ingredients\"><div class=\"fela-_1ojrgj2\"><span class=\"dsbn dsdp dsdq dsd dsbq dse dsdr dsds dsdt\"><span data-translation-id=\"recipe-detail.ingredients\">Ingredients</span></span><div class=\"fela-_gsaurf\"><div class=\"fela-_17ohzvl\" data-test-id=\"serving-amount-container\"><div class=\"dsav dsaw dsax dsay dsg dsaz dsba dsdu dsdv dsbb dsbc dsbd dsbe dsbf dsbg dsbh dsbi\"><span class=\"dsa dsb dsdw dsd dscc dsdx dsdy dsdz dsea\"><span data-translation-id=\"recipe-detail.recipe-detail.serving-amount\">serving amount</span></span><div class=\"fela-_txm046 dsav dseb\"><div class=\"dsec dsa dsed dsee dsef dseg dseh dsei dsej dsek dsel dsem dsen dseo dsep dseq dser dses dset dseu dsev dsew dsex dsey dsez\" variant=\"secondary\">2</div><div class=\"dsec dsa dsfa dsee dsef dseg dsei dsfb dsfc dsfd dsfe\" variant=\"secondary\">4</div></div></div></div></div></div><div class=\"fela-_1xe4zlx\"><span class=\"dsbn dsdp dsdq dsd dsbq dse dsdr dsds dsdt\"><span data-translation-id=\"recipe-detail.ingredients\">Ingredients</span></span><svg aria-labelledby=\"a11y-arrow-down-icon-id a11y-arrow-down-icon-id-desc\" class=\"fela-_y4bb05 fela-_1rtnddl\" height=\"6\" preserveaspectratio=\"xMidYMid meet\" viewbox=\"0 0 10 6\" width=\"10\" xmlns=\"http://www.w3.org/2000/svg\"><title id=\"a11y-arrow-down-icon-id\">arrow down icon</title><desc id=\"a11y-arrow-down-icon-id-desc\">arrow down icon</desc><g fill=\"none\" fill-rule=\"evenodd\"><path d=\"M-7-9h24v24H-7z\"></path><path d=\"M4.998 4.191L8.79.21A.696.696 0 0 1 9.286 0C9.68 0 10 .336 10 .75a.767.767 0 0 1-.2.52l-4.286 4.5a.698.698 0 0 1-1.031 0L.197 1.27A.783.783 0 0 1 0 .75C0 .336.32 0 .714 0c.217 0 .411.101.542.261l3.742 3.93z\" fill=\"#343434\"></path></g></svg></div><div class=\"fela-_pu17tn\"><div class=\"fela-_r7xe7e\"><div class=\"fela-_17ohzvl\" data-test-id=\"serving-amount-container\"><div class=\"dsav dsaw dsax dsay dsg dsaz dsba dsdu dsdv dsbb dsbc dsbd dsbe dsbf dsbg dsbh dsbi\"><span class=\"dsa dsb dsdw dsd dscc dsdx dsdy dsdz dsea\"><span data-translation-id=\"recipe-detail.recipe-detail.serving-amount\">serving amount</span></span><div class=\"fela-_txm046 dsav dseb\"><div class=\"dsec dsa dsed dsee dsef dseg dseh dsei dsej dsek dsel dsem dsen dseo dsep dseq dser dses dset dseu dsev dsew dsex dsey dsez\" variant=\"secondary\">2</div><div class=\"dsec dsa dsfa dsee dsef dseg dsei dsfb dsfc dsfd dsfe\" variant=\"secondary\">4</div></div></div></div></div></div><div class=\"fela-_g6xips\"><div class=\"dsav dsaw dsax dsay dsg dsaz dsba dsbb dsbc dsbd dsbe dsbf dsbg dsbh dsbi\"><div class=\"dsf dsg dsh dsi dsbj dsag dsj dsk dsff dsfg dsl dsm dsn dso dsp dsq dsdn dsfh\"><div class=\"fela-_coh30y\"><div class=\"dsfi dsfj dsfk dsfl dsfm dsfn dsfo dsg dsfp dsfq\"><picture class=\"dsfr dsab dsfs dsft dsfu dsw dsx dsfv dsy dsfw dsfx dsfy dsfz\" data-alt=\"Jasmine Rice\" data-iesrc=\"https://img.hellofresh.com/f_auto,fl_lossy,h_50,q_auto,w_50/hellofresh_s3/image/55b7845df8b25ed9088b4567.png\"><source media=\"(min-width: 319px)\" srcset=\"https://img.hellofresh.com/f_auto,fl_lossy,h_70,q_auto,w_70/hellofresh_s3/image/55b7845df8b25ed9088b4567.png 1x, https://img.hellofresh.com/f_auto,fl_lossy,h_140,q_auto,w_140/hellofresh_s3/image/55b7845df8b25ed9088b4567.png 2x\"/><source media=\"(min-width: 0px)\" srcset=\"https://img.hellofresh.com/f_auto,fl_lossy,h_50,q_auto,w_50/hellofresh_s3/image/55b7845df8b25ed9088b4567.png 1x, https://img.hellofresh.com/f_auto,fl_lossy,h_100,q_auto,w_100/hellofresh_s3/image/55b7845df8b25ed9088b4567.png 2x\"/></picture><noscript><img alt=\"Jasmine Rice\" class=\"dsga dsfs\" src=\"https://img.hellofresh.com/f_auto,fl_lossy,h_50,q_auto,w_50/hellofresh_s3/image/55b7845df8b25ed9088b4567.png\"/></noscript></div></div><div class=\"fela-_1qz307e\"><p class=\"dsa dscs dsgb dsd dse dsbt dsgc\">½ cup</p><p class=\"dsa dscs dsgb dsd dse dsbt dsgc\">Jasmine Rice</p></div></div><div class=\"dsf dsg dsh dsi dsbj dsag dsj dsk dsff dsfg dsl dsm dsn dso dsp dsq dsdn dsfh\"><div class=\"fela-_coh30y\"><div class=\"dsfi dsfj dsfk dsfl dsfm dsfn dsfo dsg dsfp dsfq\"><picture class=\"dsfr dsab dsfs dsft dsfu dsw dsx dsfv dsy dsfw dsfx dsfy dsfz\" data-alt=\"Lime\" data-iesrc=\"https://img.hellofresh.com/f_auto,fl_lossy,h_50,q_auto,w_50/hellofresh_s3/ingredient/554a3c9efd2cb9ba4f8b456c-f32287bd.png\"><source media=\"(min-width: 319px)\" srcset=\"https://img.hellofresh.com/f_auto,fl_lossy,h_70,q_auto,w_70/hellofresh_s3/ingredient/554a3c9efd2cb9ba4f8b456c-f32287bd.png 1x, https://img.hellofresh.com/f_auto,fl_lossy,h_140,q_auto,w_140/hellofresh_s3/ingredient/554a3c9efd2cb9ba4f8b456c-f32287bd.png 2x\"/><source media=\"(min-width: 0px)\" srcset=\"https://img.hellofresh.com/f_auto,fl_lossy,h_50,q_auto,w_50/hellofresh_s3/ingredient/554a3c9efd2cb9ba4f8b456c-f32287bd.png 1x, https://img.hellofresh.com/f_auto,fl_lossy,h_100,q_auto,w_100/hellofresh_s3/ingredient/554a3c9efd2cb9ba4f8b456c-f32287bd.png 2x\"/></picture><noscript><img alt=\"Lime\" class=\"dsga dsfs\" src=\"https://img.hellofresh.com/f_auto,fl_lossy,h_50,q_auto,w_50/hellofresh_s3/ingredient/554a3c9efd2cb9ba4f8b456c-f32287bd.png\"/></noscript></div></div><div class=\"fela-_1qz307e\"><p class=\"dsa dscs dsgb dsd dse dsbt dsgc\">1 unit</p><p class=\"dsa dscs dsgb dsd dse dsbt dsgc\">Lime</p></div></div><div class=\"dsf dsg dsh dsi dsbj dsag dsj dsk dsff dsfg dsl dsm dsn dso dsp dsq dsdn dsfh\"><div class=\"fela-_coh30y\"><div class=\"dsfi dsfj dsfk dsfl dsfm dsfn dsfo dsg dsfp dsfq\"><picture class=\"dsfr dsab dsfs dsft dsfu dsw dsx dsfv dsy dsfw dsfx dsfy dsfz\" data-alt=\"Shallot\" data-iesrc=\"https://img.hellofresh.com/f_auto,fl_lossy,h_50,q_auto,w_50/hellofresh_s3/image/554a3dfbf8b25e1d268b456f.png\"><source media=\"(min-width: 319px)\" srcset=\"https://img.hellofresh.com/f_auto,fl_lossy,h_70,q_auto,w_70/hellofresh_s3/image/554a3dfbf8b25e1d268b456f.png 1x, https://img.hellofresh.com/f_auto,fl_lossy,h_140,q_auto,w_140/hellofresh_s3/image/554a3dfbf8b25e1d268b456f.png 2x\"/><source media=\"(min-width: 0px)\" srcset=\"https://img.hellofresh.com/f_auto,fl_lossy,h_50,q_auto,w_50/hellofresh_s3/image/554a3dfbf8b25e1d268b456f.png 1x, https://img.hellofresh.com/f_auto,fl_lossy,h_100,q_auto,w_100/hellofresh_s3/image/554a3dfbf8b25e1d268b456f.png 2x\"/></picture><noscript><img alt=\"Shallot\" class=\"dsga dsfs\" src=\"https://img.hellofresh.com/f_auto,fl_lossy,h_50,q_auto,w_50/hellofresh_s3/image/554a3dfbf8b25e1d268b456f.png\"/></noscript></div></div><div class=\"fela-_1qz307e\"><p class=\"dsa dscs dsgb dsd dse dsbt dsgc\">1 unit</p><p class=\"dsa dscs dsgb dsd dse dsbt dsgc\">Shallot</p></div></div><div class=\"dsf dsg dsh dsi dsbj dsag dsj dsk dsff dsfg dsl dsm dsn dso dsp dsq dsdn dsfh\"><div class=\"fela-_coh30y\"><div class=\"dsfi dsfj dsfk dsfl dsfm dsfn dsfo dsg dsfp dsfq\"><picture class=\"dsfr dsab dsfs dsft dsfu dsw dsx dsfv dsy dsfw dsfx dsfy dsfz\" data-alt=\"Corn\" data-iesrc=\"https://img.hellofresh.com/f_auto,fl_lossy,h_50,q_auto,w_50/hellofresh_s3/ingredient/5566d318fd2cb94b7f8b4568-dad43246.png\"><source media=\"(min-width: 319px)\" srcset=\"https://img.hellofresh.com/f_auto,fl_lossy,h_70,q_auto,w_70/hellofresh_s3/ingredient/5566d318fd2cb94b7f8b4568-dad43246.png 1x, https://img.hellofresh.com/f_auto,fl_lossy,h_140,q_auto,w_140/hellofresh_s3/ingredient/5566d318fd2cb94b7f8b4568-dad43246.png 2x\"/><source media=\"(min-width: 0px)\" srcset=\"https://img.hellofresh.com/f_auto,fl_lossy,h_50,q_auto,w_50/hellofresh_s3/ingredient/5566d318fd2cb94b7f8b4568-dad43246.png 1x, https://img.hellofresh.com/f_auto,fl_lossy,h_100,q_auto,w_100/hellofresh_s3/ingredient/5566d318fd2cb94b7f8b4568-dad43246.png 2x\"/></picture><noscript><img alt=\"Corn\" class=\"dsga dsfs\" src=\"https://img.hellofresh.com/f_auto,fl_lossy,h_50,q_auto,w_50/hellofresh_s3/ingredient/5566d318fd2cb94b7f8b4568-dad43246.png\"/></noscript></div></div><div class=\"fela-_1qz307e\"><p class=\"dsa dscs dsgb dsd dse dsbt dsgc\">13.4 ounce</p><p class=\"dsa dscs dsgb dsd dse dsbt dsgc\">Corn</p></div></div><div class=\"dsf dsg dsh dsi dsbj dsag dsj dsk dsff dsfg dsl dsm dsn dso dsp dsq dsdn dsfh\"><div class=\"fela-_coh30y\"><div class=\"dsfi dsfj dsfk dsfl dsfm dsfn dsfo dsg dsfp dsfq\"><picture class=\"dsfr dsab dsfs dsft dsfu dsw dsx dsfv dsy dsfw dsfx dsfy dsfz\" data-alt=\"Jalapeño\" data-iesrc=\"https://img.hellofresh.com/f_auto,fl_lossy,h_50,q_auto,w_50/hellofresh_s3/ingredient/55561153fd2cb9521f8b4568-d95ff4b4.png\"><source media=\"(min-width: 319px)\" srcset=\"https://img.hellofresh.com/f_auto,fl_lossy,h_70,q_auto,w_70/hellofresh_s3/ingredient/55561153fd2cb9521f8b4568-d95ff4b4.png 1x, https://img.hellofresh.com/f_auto,fl_lossy,h_140,q_auto,w_140/hellofresh_s3/ingredient/55561153fd2cb9521f8b4568-d95ff4b4.png 2x\"/><source media=\"(min-width: 0px)\" srcset=\"https://img.hellofresh.com/f_auto,fl_lossy,h_50,q_auto,w_50/hellofresh_s3/ingredient/55561153fd2cb9521f8b4568-d95ff4b4.png 1x, https://img.hellofresh.com/f_auto,fl_lossy,h_100,q_auto,w_100/hellofresh_s3/ingredient/55561153fd2cb9521f8b4568-d95ff4b4.png 2x\"/></picture><noscript><img alt=\"Jalapeño\" class=\"dsga dsfs\" src=\"https://img.hellofresh.com/f_auto,fl_lossy,h_50,q_auto,w_50/hellofresh_s3/ingredient/55561153fd2cb9521f8b4568-d95ff4b4.png\"/></noscript></div></div><div class=\"fela-_1qz307e\"><p class=\"dsa dscs dsgb dsd dse dsbt dsgc\">1 unit</p><p class=\"dsa dscs dsgb dsd dse dsbt dsgc\">Jalapeño</p></div></div><div class=\"dsf dsg dsh dsi dsbj dsag dsj dsk dsff dsfg dsl dsm dsn dso dsp dsq dsdn dsfh\"><div class=\"fela-_coh30y\"><div class=\"dsfi dsfj dsfk dsfl dsfm dsfn dsfo dsg dsfp dsfq\"><picture class=\"dsfr dsab dsfs dsft dsfu dsw dsx dsfv dsy dsfw dsfx dsfy dsfz\" data-alt=\"Sour Cream\" data-iesrc=\"https://img.hellofresh.com/f_auto,fl_lossy,h_50,q_auto,w_50/hellofresh_s3/ingredient/5550e1064dab71893e8b4569-dc52e70d.png\"><source media=\"(min-width: 319px)\" srcset=\"https://img.hellofresh.com/f_auto,fl_lossy,h_70,q_auto,w_70/hellofresh_s3/ingredient/5550e1064dab71893e8b4569-dc52e70d.png 1x, https://img.hellofresh.com/f_auto,fl_lossy,h_140,q_auto,w_140/hellofresh_s3/ingredient/5550e1064dab71893e8b4569-dc52e70d.png 2x\"/><source media=\"(min-width: 0px)\" srcset=\"https://img.hellofresh.com/f_auto,fl_lossy,h_50,q_auto,w_50/hellofresh_s3/ingredient/5550e1064dab71893e8b4569-dc52e70d.png 1x, https://img.hellofresh.com/f_auto,fl_lossy,h_100,q_auto,w_100/hellofresh_s3/ingredient/5550e1064dab71893e8b4569-dc52e70d.png 2x\"/></picture><noscript><img alt=\"Sour Cream\" class=\"dsga dsfs\" src=\"https://img.hellofresh.com/f_auto,fl_lossy,h_50,q_auto,w_50/hellofresh_s3/ingredient/5550e1064dab71893e8b4569-dc52e70d.png\"/></noscript></div></div><div class=\"fela-_1qz307e\"><p class=\"dsa dscs dsgb dsd dse dsbt dsgc\">4 tablespoon</p><p class=\"dsa dscs dsgb dsd dse dsbt dsgc\">Sour Cream</p><span class=\"dsa dscs dsct dsd dse dsgd\">(<span class=\"dsa dscs dsct dsd dse dsge\"><span data-translation-id=\"recipe-detail.contains\">Contains</span></span><span class=\"dsa dscs dsct dscb dse\">Milk</span>)</span></div></div><div class=\"dsf dsg dsh dsi dsbj dsag dsj dsk dsff dsfg dsl dsm dsn dso dsp dsq dsdn dsfh\"><div class=\"fela-_coh30y\"><div class=\"dsfi dsfj dsfk dsfl dsfm dsfn dsfo dsg dsfp dsfq\"><picture class=\"dsfr dsab dsfs dsft dsfu dsw dsx dsfv dsy dsfw dsfx dsfy dsfz\" data-alt=\"Southwest Spice Blend\" data-iesrc=\"https://img.hellofresh.com/f_auto,fl_lossy,h_50,q_auto,w_50/hellofresh_s3/ingredient/55a55c56fd2cb9f27c8b4567-1fe316e4.png\"><source media=\"(min-width: 319px)\" srcset=\"https://img.hellofresh.com/f_auto,fl_lossy,h_70,q_auto,w_70/hellofresh_s3/ingredient/55a55c56fd2cb9f27c8b4567-1fe316e4.png 1x, https://img.hellofresh.com/f_auto,fl_lossy,h_140,q_auto,w_140/hellofresh_s3/ingredient/55a55c56fd2cb9f27c8b4567-1fe316e4.png 2x\"/><source media=\"(min-width: 0px)\" srcset=\"https://img.hellofresh.com/f_auto,fl_lossy,h_50,q_auto,w_50/hellofresh_s3/ingredient/55a55c56fd2cb9f27c8b4567-1fe316e4.png 1x, https://img.hellofresh.com/f_auto,fl_lossy,h_100,q_auto,w_100/hellofresh_s3/ingredient/55a55c56fd2cb9f27c8b4567-1fe316e4.png 2x\"/></picture><noscript><img alt=\"Southwest Spice Blend\" class=\"dsga dsfs\" src=\"https://img.hellofresh.com/f_auto,fl_lossy,h_50,q_auto,w_50/hellofresh_s3/ingredient/55a55c56fd2cb9f27c8b4567-1fe316e4.png\"/></noscript></div></div><div class=\"fela-_1qz307e\"><p class=\"dsa dscs dsgb dsd dse dsbt dsgc\">1 tablespoon</p><p class=\"dsa dscs dsgb dsd dse dsbt dsgc\">Southwest Spice Blend</p></div></div><div class=\"dsf dsg dsh dsi dsbj dsag dsj dsk dsff dsfg dsl dsm dsn dso dsp dsq dsdn dsfh\"><div class=\"fela-_coh30y\"><div class=\"dsfi dsfj dsfk dsfl dsfm dsfn dsfo dsg dsfp dsfq\"><picture class=\"dsfr dsab dsfs dsft dsfu dsw dsx dsfv dsy dsfw dsfx dsfy dsfz\" data-alt=\"Pulled Chicken in BBQ Sauce\" data-iesrc=\"https://img.hellofresh.com/f_auto,fl_lossy,h_50,q_auto,w_50/hellofresh_s3/ingredient/5e39e37df1e8243dda35c95f-5943c73d.png\"><source media=\"(min-width: 319px)\" srcset=\"https://img.hellofresh.com/f_auto,fl_lossy,h_70,q_auto,w_70/hellofresh_s3/ingredient/5e39e37df1e8243dda35c95f-5943c73d.png 1x, https://img.hellofresh.com/f_auto,fl_lossy,h_140,q_auto,w_140/hellofresh_s3/ingredient/5e39e37df1e8243dda35c95f-5943c73d.png 2x\"/><source media=\"(min-width: 0px)\" srcset=\"https://img.hellofresh.com/f_auto,fl_lossy,h_50,q_auto,w_50/hellofresh_s3/ingredient/5e39e37df1e8243dda35c95f-5943c73d.png 1x, https://img.hellofresh.com/f_auto,fl_lossy,h_100,q_auto,w_100/hellofresh_s3/ingredient/5e39e37df1e8243dda35c95f-5943c73d.png 2x\"/></picture><noscript><img alt=\"Pulled Chicken in BBQ Sauce\" class=\"dsga dsfs\" src=\"https://img.hellofresh.com/f_auto,fl_lossy,h_50,q_auto,w_50/hellofresh_s3/ingredient/5e39e37df1e8243dda35c95f-5943c73d.png\"/></noscript></div></div><div class=\"fela-_1qz307e\"><p class=\"dsa dscs dsgb dsd dse dsbt dsgc\">10 ounce</p><p class=\"dsa dscs dsgb dsd dse dsbt dsgc\">Pulled Chicken in BBQ Sauce</p></div></div></div></div><div><h4 class=\"fela-_z78u3q dsbn dsb dsc dsd dsbq dse\"><span data-translation-id=\"recipe-detail.ingredients.not-included\">Not included in your delivery</span></h4><div class=\"fela-_20uev4\"><div class=\"dsav dsaw dsax dsay dsg dsaz dsba dsbb dsbc dsbd dsbe dsbf dsbg dsbh dsbi\"><div class=\"dsf dsg dsh dsi dsbj dsag dsj dsk dsff dsfg dsl dsm dsn dso dsp dsq dsdn dsfh\"><div class=\"fela-_coh30y\"><div class=\"dsfi dsfj dsfk dsfl dsfm dsfn dsfo dsg dsfp dsfq\"><picture class=\"dsfr dsab dsfs dsft dsfu dsw dsx dsfv dsy dsfw dsfx dsfy dsfz\" data-alt=\"Salt\" data-iesrc=\"https://img.hellofresh.com/f_auto,fl_lossy,h_50,q_auto,w_50/hellofresh_s3/image/5566ceb7fd2cb95f7f8b4567.png\"><source media=\"(min-width: 319px)\" srcset=\"https://img.hellofresh.com/f_auto,fl_lossy,h_70,q_auto,w_70/hellofresh_s3/image/5566ceb7fd2cb95f7f8b4567.png 1x, https://img.hellofresh.com/f_auto,fl_lossy,h_140,q_auto,w_140/hellofresh_s3/image/5566ceb7fd2cb95f7f8b4567.png 2x\"/><source media=\"(min-width: 0px)\" srcset=\"https://img.hellofresh.com/f_auto,fl_lossy,h_50,q_auto,w_50/hellofresh_s3/image/5566ceb7fd2cb95f7f8b4567.png 1x, https://img.hellofresh.com/f_auto,fl_lossy,h_100,q_auto,w_100/hellofresh_s3/image/5566ceb7fd2cb95f7f8b4567.png 2x\"/></picture><noscript><img alt=\"Salt\" class=\"dsga dsfs\" src=\"https://img.hellofresh.com/f_auto,fl_lossy,h_50,q_auto,w_50/hellofresh_s3/image/5566ceb7fd2cb95f7f8b4567.png\"/></noscript></div></div><div class=\"fela-_1qz307e\"><p class=\"dsa dscs dsgb dsd dse dsbt dsgc\"></p><p class=\"dsa dscs dsgb dsd dse dsbt dsgc\">Salt</p></div></div><div class=\"dsf dsg dsh dsi dsbj dsag dsj dsk dsff dsfg dsl dsm dsn dso dsp dsq dsdn dsfh\"><div class=\"fela-_coh30y\"><div class=\"dsfi dsfj dsfk dsfl dsfm dsfn dsfo dsg dsfp dsfq\"><picture class=\"dsfr dsab dsfs dsft dsfu dsw dsx dsfv dsy dsfw dsfx dsfy dsfz\" data-alt=\"Pepper\" data-iesrc=\"https://img.hellofresh.com/f_auto,fl_lossy,h_50,q_auto,w_50/hellofresh_s3/image/5566dc00f8b25e5b298b4568.png\"><source media=\"(min-width: 319px)\" srcset=\"https://img.hellofresh.com/f_auto,fl_lossy,h_70,q_auto,w_70/hellofresh_s3/image/5566dc00f8b25e5b298b4568.png 1x, https://img.hellofresh.com/f_auto,fl_lossy,h_140,q_auto,w_140/hellofresh_s3/image/5566dc00f8b25e5b298b4568.png 2x\"/><source media=\"(min-width: 0px)\" srcset=\"https://img.hellofresh.com/f_auto,fl_lossy,h_50,q_auto,w_50/hellofresh_s3/image/5566dc00f8b25e5b298b4568.png 1x, https://img.hellofresh.com/f_auto,fl_lossy,h_100,q_auto,w_100/hellofresh_s3/image/5566dc00f8b25e5b298b4568.png 2x\"/></picture><noscript><img alt=\"Pepper\" class=\"dsga dsfs\" src=\"https://img.hellofresh.com/f_auto,fl_lossy,h_50,q_auto,w_50/hellofresh_s3/image/5566dc00f8b25e5b298b4568.png\"/></noscript></div></div><div class=\"fela-_1qz307e\"><p class=\"dsa dscs dsgb dsd dse dsbt dsgc\"></p><p class=\"dsa dscs dsgb dsd dse dsbt dsgc\">Pepper</p></div></div><div class=\"dsf dsg dsh dsi dsbj dsag dsj dsk dsff dsfg dsl dsm dsn dso dsp dsq dsdn dsfh\"><div class=\"fela-_coh30y\"><div class=\"dsfi dsfj dsfk dsfl dsfm dsfn dsfo dsg dsfp dsfq\"><picture class=\"dsfr dsab dsfs dsft dsfu dsw dsx dsfv dsy dsfw dsfx dsfy dsfz\" data-alt=\"Sugar\" data-iesrc=\"https://img.hellofresh.com/f_auto,fl_lossy,h_50,q_auto,w_50/hellofresh_s3/image/5566e2014dab71e3078b4568.png\"><source media=\"(min-width: 319px)\" srcset=\"https://img.hellofresh.com/f_auto,fl_lossy,h_70,q_auto,w_70/hellofresh_s3/image/5566e2014dab71e3078b4568.png 1x, https://img.hellofresh.com/f_auto,fl_lossy,h_140,q_auto,w_140/hellofresh_s3/image/5566e2014dab71e3078b4568.png 2x\"/><source media=\"(min-width: 0px)\" srcset=\"https://img.hellofresh.com/f_auto,fl_lossy,h_50,q_auto,w_50/hellofresh_s3/image/5566e2014dab71e3078b4568.png 1x, https://img.hellofresh.com/f_auto,fl_lossy,h_100,q_auto,w_100/hellofresh_s3/image/5566e2014dab71e3078b4568.png 2x\"/></picture><noscript><img alt=\"Sugar\" class=\"dsga dsfs\" src=\"https://img.hellofresh.com/f_auto,fl_lossy,h_50,q_auto,w_50/hellofresh_s3/image/5566e2014dab71e3078b4568.png\"/></noscript></div></div><div class=\"fela-_1qz307e\"><p class=\"dsa dscs dsgb dsd dse dsbt dsgc\">¼ teaspoon</p><p class=\"dsa dscs dsgb dsd dse dsbt dsgc\">Sugar</p></div></div><div class=\"dsf dsg dsh dsi dsbj dsag dsj dsk dsff dsfg dsl dsm dsn dso dsp dsq dsdn dsfh\"><div class=\"fela-_coh30y\"><div class=\"dsfi dsfj dsfk dsfl dsfm dsfn dsfo dsg dsfp dsfq\"><picture class=\"dsfr dsab dsfs dsft dsfu dsw dsx dsfv dsy dsfw dsfx dsfy dsfz\" data-alt=\"Vegetable Oil\" data-iesrc=\"https://img.hellofresh.com/f_auto,fl_lossy,h_50,q_auto,w_50/hellofresh_s3/ingredients/5566d4f94dab715a078b4568-7c93a003.png\"><source media=\"(min-width: 319px)\" srcset=\"https://img.hellofresh.com/f_auto,fl_lossy,h_70,q_auto,w_70/hellofresh_s3/ingredients/5566d4f94dab715a078b4568-7c93a003.png 1x, https://img.hellofresh.com/f_auto,fl_lossy,h_140,q_auto,w_140/hellofresh_s3/ingredients/5566d4f94dab715a078b4568-7c93a003.png 2x\"/><source media=\"(min-width: 0px)\" srcset=\"https://img.hellofresh.com/f_auto,fl_lossy,h_50,q_auto,w_50/hellofresh_s3/ingredients/5566d4f94dab715a078b4568-7c93a003.png 1x, https://img.hellofresh.com/f_auto,fl_lossy,h_100,q_auto,w_100/hellofresh_s3/ingredients/5566d4f94dab715a078b4568-7c93a003.png 2x\"/></picture><noscript><img alt=\"Vegetable Oil\" class=\"dsga dsfs\" src=\"https://img.hellofresh.com/f_auto,fl_lossy,h_50,q_auto,w_50/hellofresh_s3/ingredients/5566d4f94dab715a078b4568-7c93a003.png\"/></noscript></div></div><div class=\"fela-_1qz307e\"><p class=\"dsa dscs dsgb dsd dse dsbt dsgc\">2 teaspoon</p><p class=\"dsa dscs dsgb dsd dse dsbt dsgc\">Vegetable Oil</p></div></div><div class=\"dsf dsg dsh dsi dsbj dsag dsj dsk dsff dsfg dsl dsm dsn dso dsp dsq dsdn dsfh\"><div class=\"fela-_coh30y\"><div class=\"dsfi dsfj dsfk dsfl dsfm dsfn dsfo dsg dsfp dsfq\"><picture class=\"dsfr dsab dsfs dsft dsfu dsw dsx dsfv dsy dsfw dsfx dsfy dsfz\" data-alt=\"Butter\" data-iesrc=\"https://img.hellofresh.com/f_auto,fl_lossy,h_50,q_auto,w_50/hellofresh_s3/image/5566e4d74dab71e3078b4569.png\"><source media=\"(min-width: 319px)\" srcset=\"https://img.hellofresh.com/f_auto,fl_lossy,h_70,q_auto,w_70/hellofresh_s3/image/5566e4d74dab71e3078b4569.png 1x, https://img.hellofresh.com/f_auto,fl_lossy,h_140,q_auto,w_140/hellofresh_s3/image/5566e4d74dab71e3078b4569.png 2x\"/><source media=\"(min-width: 0px)\" srcset=\"https://img.hellofresh.com/f_auto,fl_lossy,h_50,q_auto,w_50/hellofresh_s3/image/5566e4d74dab71e3078b4569.png 1x, https://img.hellofresh.com/f_auto,fl_lossy,h_100,q_auto,w_100/hellofresh_s3/image/5566e4d74dab71e3078b4569.png 2x\"/></picture><noscript><img alt=\"Butter\" class=\"dsga dsfs\" src=\"https://img.hellofresh.com/f_auto,fl_lossy,h_50,q_auto,w_50/hellofresh_s3/image/5566e4d74dab71e3078b4569.png\"/></noscript></div></div><div class=\"fela-_1qz307e\"><p class=\"dsa dscs dsgb dsd dse dsbt dsgc\">2 tablespoon</p><p class=\"dsa dscs dsgb dsd dse dsbt dsgc\">Butter</p><span class=\"dsa dscs dsct dsd dse dsgd\">(<span class=\"dsa dscs dsct dsd dse dsge\"><span data-translation-id=\"recipe-detail.contains\">Contains</span></span><span class=\"dsa dscs dsct dscb dse\">Milk</span>)</span></div></div></div></div></div></div>"
      ]
     },
     "execution_count": 5,
     "metadata": {},
     "output_type": "execute_result"
    }
   ],
   "source": [
    "ing_1=soup.find(\"div\", class_=\"fela-_14s1ns7\")\n",
    "ing_1\n",
    "\n",
    "#img_2=img_1.find(class_=\"dsa dscs dsgb dsd dse dsbt dsgc\")\n",
    "\n",
    "# ing_2=img_src.find(\"a\", href=True)\n",
    "# img_src3 = img_src2.find(\"img\").get('src')\n",
    "\n",
    "\n",
    "# ingredients=soup.find_all(class_=\"fela-_71c2k1\")\n",
    "# ingredients"
   ]
  },
  {
   "cell_type": "code",
   "execution_count": 6,
   "metadata": {},
   "outputs": [
    {
     "data": {
      "text/plain": [
       "<div class=\"dsav dsaw dsax dsay dsg dsaz dsba dsbb dsbc dsbd dsbe dsbf dsbg dsbh dsbi\"><div class=\"dsf dsg dsh dsi dsbj dsag dsj dsk dsff dsfg dsl dsm dsn dso dsp dsq dsdn dsfh\"><div class=\"fela-_coh30y\"><div class=\"dsfi dsfj dsfk dsfl dsfm dsfn dsfo dsg dsfp dsfq\"><picture class=\"dsfr dsab dsfs dsft dsfu dsw dsx dsfv dsy dsfw dsfx dsfy dsfz\" data-alt=\"Jasmine Rice\" data-iesrc=\"https://img.hellofresh.com/f_auto,fl_lossy,h_50,q_auto,w_50/hellofresh_s3/image/55b7845df8b25ed9088b4567.png\"><source media=\"(min-width: 319px)\" srcset=\"https://img.hellofresh.com/f_auto,fl_lossy,h_70,q_auto,w_70/hellofresh_s3/image/55b7845df8b25ed9088b4567.png 1x, https://img.hellofresh.com/f_auto,fl_lossy,h_140,q_auto,w_140/hellofresh_s3/image/55b7845df8b25ed9088b4567.png 2x\"/><source media=\"(min-width: 0px)\" srcset=\"https://img.hellofresh.com/f_auto,fl_lossy,h_50,q_auto,w_50/hellofresh_s3/image/55b7845df8b25ed9088b4567.png 1x, https://img.hellofresh.com/f_auto,fl_lossy,h_100,q_auto,w_100/hellofresh_s3/image/55b7845df8b25ed9088b4567.png 2x\"/></picture><noscript><img alt=\"Jasmine Rice\" class=\"dsga dsfs\" src=\"https://img.hellofresh.com/f_auto,fl_lossy,h_50,q_auto,w_50/hellofresh_s3/image/55b7845df8b25ed9088b4567.png\"/></noscript></div></div><div class=\"fela-_1qz307e\"><p class=\"dsa dscs dsgb dsd dse dsbt dsgc\">½ cup</p><p class=\"dsa dscs dsgb dsd dse dsbt dsgc\">Jasmine Rice</p></div></div><div class=\"dsf dsg dsh dsi dsbj dsag dsj dsk dsff dsfg dsl dsm dsn dso dsp dsq dsdn dsfh\"><div class=\"fela-_coh30y\"><div class=\"dsfi dsfj dsfk dsfl dsfm dsfn dsfo dsg dsfp dsfq\"><picture class=\"dsfr dsab dsfs dsft dsfu dsw dsx dsfv dsy dsfw dsfx dsfy dsfz\" data-alt=\"Lime\" data-iesrc=\"https://img.hellofresh.com/f_auto,fl_lossy,h_50,q_auto,w_50/hellofresh_s3/ingredient/554a3c9efd2cb9ba4f8b456c-f32287bd.png\"><source media=\"(min-width: 319px)\" srcset=\"https://img.hellofresh.com/f_auto,fl_lossy,h_70,q_auto,w_70/hellofresh_s3/ingredient/554a3c9efd2cb9ba4f8b456c-f32287bd.png 1x, https://img.hellofresh.com/f_auto,fl_lossy,h_140,q_auto,w_140/hellofresh_s3/ingredient/554a3c9efd2cb9ba4f8b456c-f32287bd.png 2x\"/><source media=\"(min-width: 0px)\" srcset=\"https://img.hellofresh.com/f_auto,fl_lossy,h_50,q_auto,w_50/hellofresh_s3/ingredient/554a3c9efd2cb9ba4f8b456c-f32287bd.png 1x, https://img.hellofresh.com/f_auto,fl_lossy,h_100,q_auto,w_100/hellofresh_s3/ingredient/554a3c9efd2cb9ba4f8b456c-f32287bd.png 2x\"/></picture><noscript><img alt=\"Lime\" class=\"dsga dsfs\" src=\"https://img.hellofresh.com/f_auto,fl_lossy,h_50,q_auto,w_50/hellofresh_s3/ingredient/554a3c9efd2cb9ba4f8b456c-f32287bd.png\"/></noscript></div></div><div class=\"fela-_1qz307e\"><p class=\"dsa dscs dsgb dsd dse dsbt dsgc\">1 unit</p><p class=\"dsa dscs dsgb dsd dse dsbt dsgc\">Lime</p></div></div><div class=\"dsf dsg dsh dsi dsbj dsag dsj dsk dsff dsfg dsl dsm dsn dso dsp dsq dsdn dsfh\"><div class=\"fela-_coh30y\"><div class=\"dsfi dsfj dsfk dsfl dsfm dsfn dsfo dsg dsfp dsfq\"><picture class=\"dsfr dsab dsfs dsft dsfu dsw dsx dsfv dsy dsfw dsfx dsfy dsfz\" data-alt=\"Shallot\" data-iesrc=\"https://img.hellofresh.com/f_auto,fl_lossy,h_50,q_auto,w_50/hellofresh_s3/image/554a3dfbf8b25e1d268b456f.png\"><source media=\"(min-width: 319px)\" srcset=\"https://img.hellofresh.com/f_auto,fl_lossy,h_70,q_auto,w_70/hellofresh_s3/image/554a3dfbf8b25e1d268b456f.png 1x, https://img.hellofresh.com/f_auto,fl_lossy,h_140,q_auto,w_140/hellofresh_s3/image/554a3dfbf8b25e1d268b456f.png 2x\"/><source media=\"(min-width: 0px)\" srcset=\"https://img.hellofresh.com/f_auto,fl_lossy,h_50,q_auto,w_50/hellofresh_s3/image/554a3dfbf8b25e1d268b456f.png 1x, https://img.hellofresh.com/f_auto,fl_lossy,h_100,q_auto,w_100/hellofresh_s3/image/554a3dfbf8b25e1d268b456f.png 2x\"/></picture><noscript><img alt=\"Shallot\" class=\"dsga dsfs\" src=\"https://img.hellofresh.com/f_auto,fl_lossy,h_50,q_auto,w_50/hellofresh_s3/image/554a3dfbf8b25e1d268b456f.png\"/></noscript></div></div><div class=\"fela-_1qz307e\"><p class=\"dsa dscs dsgb dsd dse dsbt dsgc\">1 unit</p><p class=\"dsa dscs dsgb dsd dse dsbt dsgc\">Shallot</p></div></div><div class=\"dsf dsg dsh dsi dsbj dsag dsj dsk dsff dsfg dsl dsm dsn dso dsp dsq dsdn dsfh\"><div class=\"fela-_coh30y\"><div class=\"dsfi dsfj dsfk dsfl dsfm dsfn dsfo dsg dsfp dsfq\"><picture class=\"dsfr dsab dsfs dsft dsfu dsw dsx dsfv dsy dsfw dsfx dsfy dsfz\" data-alt=\"Corn\" data-iesrc=\"https://img.hellofresh.com/f_auto,fl_lossy,h_50,q_auto,w_50/hellofresh_s3/ingredient/5566d318fd2cb94b7f8b4568-dad43246.png\"><source media=\"(min-width: 319px)\" srcset=\"https://img.hellofresh.com/f_auto,fl_lossy,h_70,q_auto,w_70/hellofresh_s3/ingredient/5566d318fd2cb94b7f8b4568-dad43246.png 1x, https://img.hellofresh.com/f_auto,fl_lossy,h_140,q_auto,w_140/hellofresh_s3/ingredient/5566d318fd2cb94b7f8b4568-dad43246.png 2x\"/><source media=\"(min-width: 0px)\" srcset=\"https://img.hellofresh.com/f_auto,fl_lossy,h_50,q_auto,w_50/hellofresh_s3/ingredient/5566d318fd2cb94b7f8b4568-dad43246.png 1x, https://img.hellofresh.com/f_auto,fl_lossy,h_100,q_auto,w_100/hellofresh_s3/ingredient/5566d318fd2cb94b7f8b4568-dad43246.png 2x\"/></picture><noscript><img alt=\"Corn\" class=\"dsga dsfs\" src=\"https://img.hellofresh.com/f_auto,fl_lossy,h_50,q_auto,w_50/hellofresh_s3/ingredient/5566d318fd2cb94b7f8b4568-dad43246.png\"/></noscript></div></div><div class=\"fela-_1qz307e\"><p class=\"dsa dscs dsgb dsd dse dsbt dsgc\">13.4 ounce</p><p class=\"dsa dscs dsgb dsd dse dsbt dsgc\">Corn</p></div></div><div class=\"dsf dsg dsh dsi dsbj dsag dsj dsk dsff dsfg dsl dsm dsn dso dsp dsq dsdn dsfh\"><div class=\"fela-_coh30y\"><div class=\"dsfi dsfj dsfk dsfl dsfm dsfn dsfo dsg dsfp dsfq\"><picture class=\"dsfr dsab dsfs dsft dsfu dsw dsx dsfv dsy dsfw dsfx dsfy dsfz\" data-alt=\"Jalapeño\" data-iesrc=\"https://img.hellofresh.com/f_auto,fl_lossy,h_50,q_auto,w_50/hellofresh_s3/ingredient/55561153fd2cb9521f8b4568-d95ff4b4.png\"><source media=\"(min-width: 319px)\" srcset=\"https://img.hellofresh.com/f_auto,fl_lossy,h_70,q_auto,w_70/hellofresh_s3/ingredient/55561153fd2cb9521f8b4568-d95ff4b4.png 1x, https://img.hellofresh.com/f_auto,fl_lossy,h_140,q_auto,w_140/hellofresh_s3/ingredient/55561153fd2cb9521f8b4568-d95ff4b4.png 2x\"/><source media=\"(min-width: 0px)\" srcset=\"https://img.hellofresh.com/f_auto,fl_lossy,h_50,q_auto,w_50/hellofresh_s3/ingredient/55561153fd2cb9521f8b4568-d95ff4b4.png 1x, https://img.hellofresh.com/f_auto,fl_lossy,h_100,q_auto,w_100/hellofresh_s3/ingredient/55561153fd2cb9521f8b4568-d95ff4b4.png 2x\"/></picture><noscript><img alt=\"Jalapeño\" class=\"dsga dsfs\" src=\"https://img.hellofresh.com/f_auto,fl_lossy,h_50,q_auto,w_50/hellofresh_s3/ingredient/55561153fd2cb9521f8b4568-d95ff4b4.png\"/></noscript></div></div><div class=\"fela-_1qz307e\"><p class=\"dsa dscs dsgb dsd dse dsbt dsgc\">1 unit</p><p class=\"dsa dscs dsgb dsd dse dsbt dsgc\">Jalapeño</p></div></div><div class=\"dsf dsg dsh dsi dsbj dsag dsj dsk dsff dsfg dsl dsm dsn dso dsp dsq dsdn dsfh\"><div class=\"fela-_coh30y\"><div class=\"dsfi dsfj dsfk dsfl dsfm dsfn dsfo dsg dsfp dsfq\"><picture class=\"dsfr dsab dsfs dsft dsfu dsw dsx dsfv dsy dsfw dsfx dsfy dsfz\" data-alt=\"Sour Cream\" data-iesrc=\"https://img.hellofresh.com/f_auto,fl_lossy,h_50,q_auto,w_50/hellofresh_s3/ingredient/5550e1064dab71893e8b4569-dc52e70d.png\"><source media=\"(min-width: 319px)\" srcset=\"https://img.hellofresh.com/f_auto,fl_lossy,h_70,q_auto,w_70/hellofresh_s3/ingredient/5550e1064dab71893e8b4569-dc52e70d.png 1x, https://img.hellofresh.com/f_auto,fl_lossy,h_140,q_auto,w_140/hellofresh_s3/ingredient/5550e1064dab71893e8b4569-dc52e70d.png 2x\"/><source media=\"(min-width: 0px)\" srcset=\"https://img.hellofresh.com/f_auto,fl_lossy,h_50,q_auto,w_50/hellofresh_s3/ingredient/5550e1064dab71893e8b4569-dc52e70d.png 1x, https://img.hellofresh.com/f_auto,fl_lossy,h_100,q_auto,w_100/hellofresh_s3/ingredient/5550e1064dab71893e8b4569-dc52e70d.png 2x\"/></picture><noscript><img alt=\"Sour Cream\" class=\"dsga dsfs\" src=\"https://img.hellofresh.com/f_auto,fl_lossy,h_50,q_auto,w_50/hellofresh_s3/ingredient/5550e1064dab71893e8b4569-dc52e70d.png\"/></noscript></div></div><div class=\"fela-_1qz307e\"><p class=\"dsa dscs dsgb dsd dse dsbt dsgc\">4 tablespoon</p><p class=\"dsa dscs dsgb dsd dse dsbt dsgc\">Sour Cream</p><span class=\"dsa dscs dsct dsd dse dsgd\">(<span class=\"dsa dscs dsct dsd dse dsge\"><span data-translation-id=\"recipe-detail.contains\">Contains</span></span><span class=\"dsa dscs dsct dscb dse\">Milk</span>)</span></div></div><div class=\"dsf dsg dsh dsi dsbj dsag dsj dsk dsff dsfg dsl dsm dsn dso dsp dsq dsdn dsfh\"><div class=\"fela-_coh30y\"><div class=\"dsfi dsfj dsfk dsfl dsfm dsfn dsfo dsg dsfp dsfq\"><picture class=\"dsfr dsab dsfs dsft dsfu dsw dsx dsfv dsy dsfw dsfx dsfy dsfz\" data-alt=\"Southwest Spice Blend\" data-iesrc=\"https://img.hellofresh.com/f_auto,fl_lossy,h_50,q_auto,w_50/hellofresh_s3/ingredient/55a55c56fd2cb9f27c8b4567-1fe316e4.png\"><source media=\"(min-width: 319px)\" srcset=\"https://img.hellofresh.com/f_auto,fl_lossy,h_70,q_auto,w_70/hellofresh_s3/ingredient/55a55c56fd2cb9f27c8b4567-1fe316e4.png 1x, https://img.hellofresh.com/f_auto,fl_lossy,h_140,q_auto,w_140/hellofresh_s3/ingredient/55a55c56fd2cb9f27c8b4567-1fe316e4.png 2x\"/><source media=\"(min-width: 0px)\" srcset=\"https://img.hellofresh.com/f_auto,fl_lossy,h_50,q_auto,w_50/hellofresh_s3/ingredient/55a55c56fd2cb9f27c8b4567-1fe316e4.png 1x, https://img.hellofresh.com/f_auto,fl_lossy,h_100,q_auto,w_100/hellofresh_s3/ingredient/55a55c56fd2cb9f27c8b4567-1fe316e4.png 2x\"/></picture><noscript><img alt=\"Southwest Spice Blend\" class=\"dsga dsfs\" src=\"https://img.hellofresh.com/f_auto,fl_lossy,h_50,q_auto,w_50/hellofresh_s3/ingredient/55a55c56fd2cb9f27c8b4567-1fe316e4.png\"/></noscript></div></div><div class=\"fela-_1qz307e\"><p class=\"dsa dscs dsgb dsd dse dsbt dsgc\">1 tablespoon</p><p class=\"dsa dscs dsgb dsd dse dsbt dsgc\">Southwest Spice Blend</p></div></div><div class=\"dsf dsg dsh dsi dsbj dsag dsj dsk dsff dsfg dsl dsm dsn dso dsp dsq dsdn dsfh\"><div class=\"fela-_coh30y\"><div class=\"dsfi dsfj dsfk dsfl dsfm dsfn dsfo dsg dsfp dsfq\"><picture class=\"dsfr dsab dsfs dsft dsfu dsw dsx dsfv dsy dsfw dsfx dsfy dsfz\" data-alt=\"Pulled Chicken in BBQ Sauce\" data-iesrc=\"https://img.hellofresh.com/f_auto,fl_lossy,h_50,q_auto,w_50/hellofresh_s3/ingredient/5e39e37df1e8243dda35c95f-5943c73d.png\"><source media=\"(min-width: 319px)\" srcset=\"https://img.hellofresh.com/f_auto,fl_lossy,h_70,q_auto,w_70/hellofresh_s3/ingredient/5e39e37df1e8243dda35c95f-5943c73d.png 1x, https://img.hellofresh.com/f_auto,fl_lossy,h_140,q_auto,w_140/hellofresh_s3/ingredient/5e39e37df1e8243dda35c95f-5943c73d.png 2x\"/><source media=\"(min-width: 0px)\" srcset=\"https://img.hellofresh.com/f_auto,fl_lossy,h_50,q_auto,w_50/hellofresh_s3/ingredient/5e39e37df1e8243dda35c95f-5943c73d.png 1x, https://img.hellofresh.com/f_auto,fl_lossy,h_100,q_auto,w_100/hellofresh_s3/ingredient/5e39e37df1e8243dda35c95f-5943c73d.png 2x\"/></picture><noscript><img alt=\"Pulled Chicken in BBQ Sauce\" class=\"dsga dsfs\" src=\"https://img.hellofresh.com/f_auto,fl_lossy,h_50,q_auto,w_50/hellofresh_s3/ingredient/5e39e37df1e8243dda35c95f-5943c73d.png\"/></noscript></div></div><div class=\"fela-_1qz307e\"><p class=\"dsa dscs dsgb dsd dse dsbt dsgc\">10 ounce</p><p class=\"dsa dscs dsgb dsd dse dsbt dsgc\">Pulled Chicken in BBQ Sauce</p></div></div></div>"
      ]
     },
     "execution_count": 6,
     "metadata": {},
     "output_type": "execute_result"
    }
   ],
   "source": [
    "ing_2=ing_1.find(class_=\"dsav dsaw dsax dsay dsg dsaz dsba dsbb dsbc dsbd dsbe dsbf dsbg dsbh dsbi\")\n",
    "ing_2"
   ]
  },
  {
   "cell_type": "code",
   "execution_count": 34,
   "metadata": {},
   "outputs": [
    {
     "data": {
      "text/plain": [
       "[<p class=\"dsa dscs dsgb dsd dse dsbt dsgc\">½ cup</p>,\n",
       " <p class=\"dsa dscs dsgb dsd dse dsbt dsgc\">Jasmine Rice</p>,\n",
       " <p class=\"dsa dscs dsgb dsd dse dsbt dsgc\">1 unit</p>,\n",
       " <p class=\"dsa dscs dsgb dsd dse dsbt dsgc\">Lime</p>,\n",
       " <p class=\"dsa dscs dsgb dsd dse dsbt dsgc\">1 unit</p>,\n",
       " <p class=\"dsa dscs dsgb dsd dse dsbt dsgc\">Shallot</p>,\n",
       " <p class=\"dsa dscs dsgb dsd dse dsbt dsgc\">13.4 ounce</p>,\n",
       " <p class=\"dsa dscs dsgb dsd dse dsbt dsgc\">Corn</p>,\n",
       " <p class=\"dsa dscs dsgb dsd dse dsbt dsgc\">1 unit</p>,\n",
       " <p class=\"dsa dscs dsgb dsd dse dsbt dsgc\">Jalapeño</p>,\n",
       " <p class=\"dsa dscs dsgb dsd dse dsbt dsgc\">4 tablespoon</p>,\n",
       " <p class=\"dsa dscs dsgb dsd dse dsbt dsgc\">Sour Cream</p>,\n",
       " <p class=\"dsa dscs dsgb dsd dse dsbt dsgc\">1 tablespoon</p>,\n",
       " <p class=\"dsa dscs dsgb dsd dse dsbt dsgc\">Southwest Spice Blend</p>,\n",
       " <p class=\"dsa dscs dsgb dsd dse dsbt dsgc\">10 ounce</p>,\n",
       " <p class=\"dsa dscs dsgb dsd dse dsbt dsgc\">Pulled Chicken in BBQ Sauce</p>]"
      ]
     },
     "execution_count": 34,
     "metadata": {},
     "output_type": "execute_result"
    }
   ],
   "source": [
    "ing_3=ing_2.find_all(class_=\"dsa dscs dsgb dsd dse dsbt dsgc\")\n",
    "ing_3"
   ]
  },
  {
   "cell_type": "code",
   "execution_count": 46,
   "metadata": {},
   "outputs": [
    {
     "name": "stdout",
     "output_type": "stream",
     "text": [
      "½ cup\n",
      "Jasmine Rice\n",
      "1 unit\n",
      "Lime\n",
      "1 unit\n",
      "Shallot\n",
      "13.4 ounce\n",
      "Corn\n",
      "1 unit\n",
      "Jalapeño\n",
      "4 tablespoon\n",
      "Sour Cream\n",
      "1 tablespoon\n",
      "Southwest Spice Blend\n",
      "10 ounce\n",
      "Pulled Chicken in BBQ Sauce\n"
     ]
    }
   ],
   "source": [
    "ingredients =[]\n",
    "for entries in ing_3:\n",
    "    print(entries.text)\n",
    "    ingredients.append(entries.text)\n",
    "    "
   ]
  },
  {
   "cell_type": "code",
   "execution_count": 47,
   "metadata": {},
   "outputs": [
    {
     "data": {
      "text/plain": [
       "['½ cup',\n",
       " 'Jasmine Rice',\n",
       " '1 unit',\n",
       " 'Lime',\n",
       " '1 unit',\n",
       " 'Shallot',\n",
       " '13.4 ounce',\n",
       " 'Corn',\n",
       " '1 unit',\n",
       " 'Jalapeño',\n",
       " '4 tablespoon',\n",
       " 'Sour Cream',\n",
       " '1 tablespoon',\n",
       " 'Southwest Spice Blend',\n",
       " '10 ounce',\n",
       " 'Pulled Chicken in BBQ Sauce']"
      ]
     },
     "execution_count": 47,
     "metadata": {},
     "output_type": "execute_result"
    }
   ],
   "source": [
    "ingredients"
   ]
  },
  {
   "cell_type": "code",
   "execution_count": null,
   "metadata": {},
   "outputs": [],
   "source": []
  }
 ],
 "metadata": {
  "kernelspec": {
   "display_name": "Python 3",
   "language": "python",
   "name": "python3"
  },
  "language_info": {
   "codemirror_mode": {
    "name": "ipython",
    "version": 3
   },
   "file_extension": ".py",
   "mimetype": "text/x-python",
   "name": "python",
   "nbconvert_exporter": "python",
   "pygments_lexer": "ipython3",
   "version": "3.6.10"
  }
 },
 "nbformat": 4,
 "nbformat_minor": 4
}

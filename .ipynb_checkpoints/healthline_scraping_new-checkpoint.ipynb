{
 "cells": [
  {
   "cell_type": "code",
   "execution_count": 1,
   "metadata": {},
   "outputs": [],
   "source": [
    "from splinter import Browser\n",
    "from bs4 import BeautifulSoup\n",
    "from webdriver_manager.chrome import ChromeDriverManager\n",
    "import time\n",
    "import requests\n",
    "import json\n",
    "import re"
   ]
  },
  {
   "cell_type": "code",
   "execution_count": 3,
   "metadata": {},
   "outputs": [],
   "source": [
    "url = 'https://www.healthline.com/nutrition/20-delicious-high-protein-foods#TOC_TITLE_HDR_2'\n",
    "\n",
    "response = requests.get(url)\n",
    "\n",
    "# browser.visit(url)\n",
    "soup = BeautifulSoup(response.text, 'html.parser')"
   ]
  },
  {
   "cell_type": "code",
   "execution_count": 7,
   "metadata": {},
   "outputs": [
    {
     "data": {
      "text/plain": [
       "<div class=\"css-0\"><span style=\"font-size:0;line-height:0\"></span><h2><div><a name=\"TOC_TITLE_HDR_2\"><a class=\"css-5r4717\" name=\"eggs\" rel=\"noopener noreferrer\" target=\"_blank\"></a> 1. Eggs</a></div></h2><div class=\"content_body\" id=\"TOC_TITLE_2\"></div><p><a class=\"content-link css-5r4717\" href=\"https://www.healthline.com/nutrition/10-proven-health-benefits-of-eggs\">Whole eggs</a> are among the healthiest and most nutritious foods available.</p><p>They’re an excellent source of vitamins, minerals, healthy fats, eye-protecting antioxidants, and brain nutrients that you need.</p><p>Whole eggs are high in protein, but egg whites are <a class=\"content-link css-5r4717\" href=\"https://www.healthline.com/nutrition/10-foods-almost-pure-protein\">almost pure protein</a>.</p><p>Egg and foods containing egg are not suitable for people with an egg allergy.</p><p><strong>Protein content:</strong> 33% of calories in a whole egg. One large egg has 6 grams of protein and 78 calories (<hl-trusted-source rationale=\"Highly respected food and nutrition database from the United States Department of Agriculture,Governmental authority\" source=\"FoodData Central\"><a class=\"content-link css-5r4717\" href=\"https://fdc.nal.usda.gov/fdc-app.html#/food-details/173424/nutrients\" rel=\"noopener noreferrer\" target=\"_blank\">4</a></hl-trusted-source>).</p><div class=\"css-20w1gi\"><aside class=\"css-0\"><div><div class=\"css-1sq15os\" data-empty=\"true\"><div class=\"css-1hjaa0k\"><span class=\"css-zya54r\"></span></div><div class=\"css-viwnne\" data-ad=\"true\" data-adbridg-ad-class=\"inline1\" id=\"inline1__slot\"></div></div></div></aside></div></div>"
      ]
     },
     "execution_count": 7,
     "metadata": {},
     "output_type": "execute_result"
    }
   ],
   "source": [
    "# Kevin's attempt..woo\n",
    "\n",
    "want = soup.find_all('div', class_ = \"css-0\")[1]\n",
    "want"
   ]
  },
  {
   "cell_type": "code",
   "execution_count": 8,
   "metadata": {},
   "outputs": [
    {
     "data": {
      "text/plain": [
       "<h2><div><a name=\"TOC_TITLE_HDR_2\"><a class=\"css-5r4717\" name=\"eggs\" rel=\"noopener noreferrer\" target=\"_blank\"></a> 1. Eggs</a></div></h2>"
      ]
     },
     "execution_count": 8,
     "metadata": {},
     "output_type": "execute_result"
    }
   ],
   "source": [
    "new=want.find('h2')\n",
    "new"
   ]
  },
  {
   "cell_type": "code",
   "execution_count": 9,
   "metadata": {},
   "outputs": [
    {
     "data": {
      "text/plain": [
       "' 1. Eggs'"
      ]
     },
     "execution_count": 9,
     "metadata": {},
     "output_type": "execute_result"
    }
   ],
   "source": [
    "new.text"
   ]
  },
  {
   "cell_type": "code",
   "execution_count": 10,
   "metadata": {},
   "outputs": [],
   "source": [
    "#for loop tags list 1\n",
    "tags1 = []\n",
    "\n",
    "for i in range (1,10):\n",
    "    want = soup.find_all('div', class_ = \"css-0\")[i]\n",
    "    new=want.find('h2')\n",
    "    tags1.append(new.text)\n",
    "    "
   ]
  },
  {
   "cell_type": "code",
   "execution_count": 11,
   "metadata": {},
   "outputs": [
    {
     "data": {
      "text/plain": [
       "[' 1. Eggs',\n",
       " ' 2. Almonds',\n",
       " ' 3. Chicken breast',\n",
       " ' 4. Oats',\n",
       " ' 5. Cottage cheese',\n",
       " ' 6. Greek yogurt',\n",
       " ' 7. Milk',\n",
       " ' 8. Broccoli',\n",
       " ' 9. Lean beef']"
      ]
     },
     "execution_count": 11,
     "metadata": {},
     "output_type": "execute_result"
    }
   ],
   "source": [
    "#Splitting into two lists\n",
    "tags1"
   ]
  },
  {
   "cell_type": "code",
   "execution_count": 12,
   "metadata": {},
   "outputs": [
    {
     "data": {
      "text/plain": [
       "[' 11. Quinoa',\n",
       " ' 12. Whey protein supplements',\n",
       " ' 13. Lentils',\n",
       " ' 14. Ezekiel bread',\n",
       " ' 15. Pumpkin seeds',\n",
       " ' 16. Turkey breast',\n",
       " ' 17. Fish (all types)',\n",
       " ' 18. Shrimp',\n",
       " ' 19. Brussels sprouts',\n",
       " ' 20. Peanuts']"
      ]
     },
     "execution_count": 12,
     "metadata": {},
     "output_type": "execute_result"
    }
   ],
   "source": [
    "#for loop tags list 2\n",
    "tags2 = []\n",
    "\n",
    "for i in range (11,21):\n",
    "    want = soup.find_all('div', class_ = \"css-0\")[i]\n",
    "    new=want.find('h2')\n",
    "    tags2.append(new.text)\n",
    "tags2    "
   ]
  },
  {
   "cell_type": "code",
   "execution_count": 21,
   "metadata": {},
   "outputs": [
    {
     "name": "stdout",
     "output_type": "stream",
     "text": [
      "['Eggs', 'Almonds', 'Chicken breast', 'Oats', 'Cottage cheese', 'Greek yogurt', 'Milk', 'Broccoli', 'Lean beef']\n"
     ]
    }
   ],
   "source": [
    "#remove numbers\n",
    "newlst=[]\n",
    "for i in tags1:\n",
    "    newlst.append(i[4:])\n",
    "print(newlst)"
   ]
  },
  {
   "cell_type": "code",
   "execution_count": 17,
   "metadata": {},
   "outputs": [
    {
     "name": "stdout",
     "output_type": "stream",
     "text": [
      "['Quinoa', 'Whey protein supplements', 'Lentils', 'Ezekiel bread', 'Pumpkin seeds', 'Turkey breast', 'Fish (all types)', 'Shrimp', 'Brussels sprouts', 'Peanuts']\n"
     ]
    }
   ],
   "source": [
    "newlst2=[]\n",
    "for i in tags2:\n",
    "    newlst2.append(i[5:])\n",
    "print(newlst2)"
   ]
  },
  {
   "cell_type": "code",
   "execution_count": 18,
   "metadata": {},
   "outputs": [
    {
     "data": {
      "text/plain": [
       "['Eggs',\n",
       " 'Almonds',\n",
       " 'Chicken breast',\n",
       " 'Oats',\n",
       " 'Cottage cheese',\n",
       " 'Greek yogurt',\n",
       " 'Milk',\n",
       " 'Broccoli',\n",
       " 'Lean beef',\n",
       " 'Quinoa',\n",
       " 'Whey protein supplements',\n",
       " 'Lentils',\n",
       " 'Ezekiel bread',\n",
       " 'Pumpkin seeds',\n",
       " 'Turkey breast',\n",
       " 'Fish (all types)',\n",
       " 'Shrimp',\n",
       " 'Brussels sprouts',\n",
       " 'Peanuts']"
      ]
     },
     "execution_count": 18,
     "metadata": {},
     "output_type": "execute_result"
    }
   ],
   "source": [
    "# Joining lists\n",
    "ingredients = newlst+newlst2\n",
    "ingredients"
   ]
  },
  {
   "cell_type": "code",
   "execution_count": 19,
   "metadata": {},
   "outputs": [
    {
     "data": {
      "text/plain": [
       "['Eggs',\n",
       " 'Almonds',\n",
       " 'Chicken breast',\n",
       " 'Oats',\n",
       " 'Cottage cheese',\n",
       " 'Greek yogurt',\n",
       " 'Milk',\n",
       " 'Broccoli',\n",
       " 'Lean beef',\n",
       " 'Quinoa',\n",
       " 'Whey protein supplements',\n",
       " 'Lentils',\n",
       " 'Ezekiel bread',\n",
       " 'Pumpkin seeds',\n",
       " 'Turkey breast',\n",
       " 'Fish',\n",
       " 'Shrimp',\n",
       " 'Brussels sprouts',\n",
       " 'Peanuts']"
      ]
     },
     "execution_count": 19,
     "metadata": {},
     "output_type": "execute_result"
    }
   ],
   "source": [
    "#Remove (all types) from fish\n",
    "\n",
    "ingredients=[y.replace(' (all types)', '') for y in ingredients]\n",
    "\n",
    "ingredients"
   ]
  },
  {
   "cell_type": "code",
   "execution_count": 20,
   "metadata": {},
   "outputs": [
    {
     "data": {
      "text/plain": [
       "['Eggs',\n",
       " 'Almonds',\n",
       " 'Chicken breast',\n",
       " 'Oats',\n",
       " 'Cottage cheese',\n",
       " 'Greek yogurt',\n",
       " 'Milk',\n",
       " 'Broccoli',\n",
       " 'Lean beef',\n",
       " 'Quinoa',\n",
       " 'Whey protein supplements',\n",
       " 'Lentils',\n",
       " 'Ezekiel bread',\n",
       " 'Pumpkin seeds',\n",
       " 'Turkey breast',\n",
       " 'Fish',\n",
       " 'Shrimp',\n",
       " 'Brussels sprouts',\n",
       " 'Peanuts']"
      ]
     },
     "execution_count": 20,
     "metadata": {},
     "output_type": "execute_result"
    }
   ],
   "source": [
    "#final list\n",
    "ingredients"
   ]
  },
  {
   "cell_type": "code",
   "execution_count": null,
   "metadata": {},
   "outputs": [],
   "source": []
  }
 ],
 "metadata": {
  "kernelspec": {
   "display_name": "Python 3",
   "language": "python",
   "name": "python3"
  },
  "language_info": {
   "codemirror_mode": {
    "name": "ipython",
    "version": 3
   },
   "file_extension": ".py",
   "mimetype": "text/x-python",
   "name": "python",
   "nbconvert_exporter": "python",
   "pygments_lexer": "ipython3",
   "version": "3.7.7"
  }
 },
 "nbformat": 4,
 "nbformat_minor": 4
}

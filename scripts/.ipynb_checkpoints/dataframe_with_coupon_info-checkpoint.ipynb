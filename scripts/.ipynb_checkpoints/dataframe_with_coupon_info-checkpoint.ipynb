{
 "cells": [
  {
   "cell_type": "code",
   "execution_count": 1,
   "metadata": {},
   "outputs": [],
   "source": [
    "import csv\n",
    "import requests\n",
    "import pandas as pd\n",
    "from tqdm import tqdm\n",
    "\n",
    "from pandas.io.json import json_normalize\n",
    "import json\n",
    "from bs4 import BeautifulSoup"
   ]
  },
  {
   "cell_type": "code",
   "execution_count": 2,
   "metadata": {},
   "outputs": [
    {
     "data": {
      "text/plain": [
       "['Eggs',\n",
       " 'Almonds',\n",
       " 'Chicken breast',\n",
       " 'Oats',\n",
       " 'Cottage cheese',\n",
       " 'Greek yogurt',\n",
       " 'Milk',\n",
       " 'Broccoli',\n",
       " 'Lean beef',\n",
       " 'Tuna',\n",
       " 'Quinoa',\n",
       " 'Whey protein supplements',\n",
       " 'Lentils',\n",
       " 'Ezekiel bread',\n",
       " 'Pumpkin seeds',\n",
       " 'Turkey breast',\n",
       " 'Fish',\n",
       " 'Shrimp',\n",
       " 'Brussels sprouts',\n",
       " 'Peanuts']"
      ]
     },
     "execution_count": 2,
     "metadata": {},
     "output_type": "execute_result"
    }
   ],
   "source": [
    "# Ingredient list\n",
    "url = 'https://www.healthline.com/nutrition/20-delicious-high-protein-foods#TOC_TITLE_HDR_2'\n",
    "\n",
    "response = requests.get(url)\n",
    "\n",
    "# browser.visit(url)\n",
    "soup = BeautifulSoup(response.text, 'html.parser')\n",
    "#for loop tags list 1\n",
    "tags1 = []\n",
    "\n",
    "for i in range (1,10):\n",
    "    want = soup.find_all('div', class_ = \"css-0\")[i]\n",
    "    new=want.find('h2')\n",
    "    tags1.append(new.text)\n",
    "    \n",
    "#for loop tags list 2\n",
    "tags2 = []\n",
    "\n",
    "for i in range (10,21):\n",
    "    want = soup.find_all('div', class_ = \"css-0\")[i]\n",
    "    new=want.find('h2')\n",
    "    tags2.append(new.text)\n",
    "\n",
    "newlst=[]\n",
    "for i in tags1:\n",
    "    newlst.append(i[4:])\n",
    "\n",
    "newlst2=[]\n",
    "for i in tags2:\n",
    "    newlst2.append(i[5:])\n",
    "\n",
    "ingredients = newlst+newlst2\n",
    "ingredients=[y.replace(' (all types)', '') for y in ingredients]\n",
    "ingredients"
   ]
  },
  {
   "cell_type": "code",
   "execution_count": 3,
   "metadata": {},
   "outputs": [
    {
     "data": {
      "text/html": [
       "<div>\n",
       "<style scoped>\n",
       "    .dataframe tbody tr th:only-of-type {\n",
       "        vertical-align: middle;\n",
       "    }\n",
       "\n",
       "    .dataframe tbody tr th {\n",
       "        vertical-align: top;\n",
       "    }\n",
       "\n",
       "    .dataframe thead th {\n",
       "        text-align: right;\n",
       "    }\n",
       "</style>\n",
       "<table border=\"1\" class=\"dataframe\">\n",
       "  <thead>\n",
       "    <tr style=\"text-align: right;\">\n",
       "      <th></th>\n",
       "      <th>zip</th>\n",
       "      <th>lat</th>\n",
       "      <th>lng</th>\n",
       "      <th>city</th>\n",
       "      <th>state_id</th>\n",
       "      <th>state_name</th>\n",
       "      <th>zcta</th>\n",
       "      <th>parent_zcta</th>\n",
       "      <th>population</th>\n",
       "      <th>density</th>\n",
       "      <th>county_fips</th>\n",
       "      <th>county_name</th>\n",
       "      <th>county_weights</th>\n",
       "      <th>county_names_all</th>\n",
       "      <th>county_fips_all</th>\n",
       "      <th>imprecise</th>\n",
       "      <th>military</th>\n",
       "      <th>timezone</th>\n",
       "    </tr>\n",
       "  </thead>\n",
       "  <tbody>\n",
       "    <tr>\n",
       "      <th>0</th>\n",
       "      <td>00601</td>\n",
       "      <td>18.18004</td>\n",
       "      <td>-66.75218</td>\n",
       "      <td>Adjuntas</td>\n",
       "      <td>PR</td>\n",
       "      <td>Puerto Rico</td>\n",
       "      <td>True</td>\n",
       "      <td>NaN</td>\n",
       "      <td>17242</td>\n",
       "      <td>111.4</td>\n",
       "      <td>72001</td>\n",
       "      <td>Adjuntas</td>\n",
       "      <td>{'72001':99.43,'72141':0.57}</td>\n",
       "      <td>Adjuntas|Utuado</td>\n",
       "      <td>72001|72141</td>\n",
       "      <td>False</td>\n",
       "      <td>False</td>\n",
       "      <td>America/Puerto_Rico</td>\n",
       "    </tr>\n",
       "    <tr>\n",
       "      <th>1</th>\n",
       "      <td>00602</td>\n",
       "      <td>18.36073</td>\n",
       "      <td>-67.17517</td>\n",
       "      <td>Aguada</td>\n",
       "      <td>PR</td>\n",
       "      <td>Puerto Rico</td>\n",
       "      <td>True</td>\n",
       "      <td>NaN</td>\n",
       "      <td>38442</td>\n",
       "      <td>523.5</td>\n",
       "      <td>72003</td>\n",
       "      <td>Aguada</td>\n",
       "      <td>{'72003':100}</td>\n",
       "      <td>Aguada</td>\n",
       "      <td>72003</td>\n",
       "      <td>False</td>\n",
       "      <td>False</td>\n",
       "      <td>America/Puerto_Rico</td>\n",
       "    </tr>\n",
       "    <tr>\n",
       "      <th>2</th>\n",
       "      <td>00603</td>\n",
       "      <td>18.45439</td>\n",
       "      <td>-67.12202</td>\n",
       "      <td>Aguadilla</td>\n",
       "      <td>PR</td>\n",
       "      <td>Puerto Rico</td>\n",
       "      <td>True</td>\n",
       "      <td>NaN</td>\n",
       "      <td>48814</td>\n",
       "      <td>667.9</td>\n",
       "      <td>72005</td>\n",
       "      <td>Aguadilla</td>\n",
       "      <td>{'72005':100}</td>\n",
       "      <td>Aguadilla</td>\n",
       "      <td>72005</td>\n",
       "      <td>False</td>\n",
       "      <td>False</td>\n",
       "      <td>America/Puerto_Rico</td>\n",
       "    </tr>\n",
       "    <tr>\n",
       "      <th>3</th>\n",
       "      <td>00606</td>\n",
       "      <td>18.16724</td>\n",
       "      <td>-66.93828</td>\n",
       "      <td>Maricao</td>\n",
       "      <td>PR</td>\n",
       "      <td>Puerto Rico</td>\n",
       "      <td>True</td>\n",
       "      <td>NaN</td>\n",
       "      <td>6437</td>\n",
       "      <td>60.4</td>\n",
       "      <td>72093</td>\n",
       "      <td>Maricao</td>\n",
       "      <td>{'72093':94.88,'72121':1.35,'72153':3.78}</td>\n",
       "      <td>Maricao|Yauco|Sabana Grande</td>\n",
       "      <td>72093|72153|72121</td>\n",
       "      <td>False</td>\n",
       "      <td>False</td>\n",
       "      <td>America/Puerto_Rico</td>\n",
       "    </tr>\n",
       "    <tr>\n",
       "      <th>4</th>\n",
       "      <td>00610</td>\n",
       "      <td>18.29032</td>\n",
       "      <td>-67.12243</td>\n",
       "      <td>Anasco</td>\n",
       "      <td>PR</td>\n",
       "      <td>Puerto Rico</td>\n",
       "      <td>True</td>\n",
       "      <td>NaN</td>\n",
       "      <td>27073</td>\n",
       "      <td>312.0</td>\n",
       "      <td>72011</td>\n",
       "      <td>Añasco</td>\n",
       "      <td>{'72003':0.55,'72011':99.45}</td>\n",
       "      <td>Añasco|Aguada</td>\n",
       "      <td>72011|72003</td>\n",
       "      <td>False</td>\n",
       "      <td>False</td>\n",
       "      <td>America/Puerto_Rico</td>\n",
       "    </tr>\n",
       "  </tbody>\n",
       "</table>\n",
       "</div>"
      ],
      "text/plain": [
       "     zip       lat       lng       city state_id   state_name  zcta  \\\n",
       "0  00601  18.18004 -66.75218   Adjuntas       PR  Puerto Rico  True   \n",
       "1  00602  18.36073 -67.17517     Aguada       PR  Puerto Rico  True   \n",
       "2  00603  18.45439 -67.12202  Aguadilla       PR  Puerto Rico  True   \n",
       "3  00606  18.16724 -66.93828    Maricao       PR  Puerto Rico  True   \n",
       "4  00610  18.29032 -67.12243     Anasco       PR  Puerto Rico  True   \n",
       "\n",
       "   parent_zcta  population  density  county_fips county_name  \\\n",
       "0          NaN       17242    111.4        72001    Adjuntas   \n",
       "1          NaN       38442    523.5        72003      Aguada   \n",
       "2          NaN       48814    667.9        72005   Aguadilla   \n",
       "3          NaN        6437     60.4        72093     Maricao   \n",
       "4          NaN       27073    312.0        72011      Añasco   \n",
       "\n",
       "                              county_weights             county_names_all  \\\n",
       "0               {'72001':99.43,'72141':0.57}              Adjuntas|Utuado   \n",
       "1                              {'72003':100}                       Aguada   \n",
       "2                              {'72005':100}                    Aguadilla   \n",
       "3  {'72093':94.88,'72121':1.35,'72153':3.78}  Maricao|Yauco|Sabana Grande   \n",
       "4               {'72003':0.55,'72011':99.45}                Añasco|Aguada   \n",
       "\n",
       "     county_fips_all  imprecise  military             timezone  \n",
       "0        72001|72141      False     False  America/Puerto_Rico  \n",
       "1              72003      False     False  America/Puerto_Rico  \n",
       "2              72005      False     False  America/Puerto_Rico  \n",
       "3  72093|72153|72121      False     False  America/Puerto_Rico  \n",
       "4        72011|72003      False     False  America/Puerto_Rico  "
      ]
     },
     "execution_count": 3,
     "metadata": {},
     "output_type": "execute_result"
    }
   ],
   "source": [
    "#Tip when dealing with zip codes. dtpye will default with integer, no bueno when it comes to zipcodes\n",
    "#that start wth 0. SET the dtype to strig. \n",
    "\n",
    "zip_codes_file = pd.read_csv(\"../datasets/uszips.csv\", dtype={'zip': 'str'})\n",
    "zip_df = zip_codes_file\n",
    "zip_df.head()"
   ]
  },
  {
   "cell_type": "markdown",
   "metadata": {},
   "source": [
    "# walmart_store_database"
   ]
  },
  {
   "cell_type": "code",
   "execution_count": 4,
   "metadata": {},
   "outputs": [
    {
     "data": {
      "text/html": [
       "<div>\n",
       "<style scoped>\n",
       "    .dataframe tbody tr th:only-of-type {\n",
       "        vertical-align: middle;\n",
       "    }\n",
       "\n",
       "    .dataframe tbody tr th {\n",
       "        vertical-align: top;\n",
       "    }\n",
       "\n",
       "    .dataframe thead th {\n",
       "        text-align: right;\n",
       "    }\n",
       "</style>\n",
       "<table border=\"1\" class=\"dataframe\">\n",
       "  <thead>\n",
       "    <tr style=\"text-align: right;\">\n",
       "      <th></th>\n",
       "      <th>zip</th>\n",
       "      <th>lat</th>\n",
       "      <th>lng</th>\n",
       "      <th>city</th>\n",
       "      <th>state_id</th>\n",
       "      <th>state_name</th>\n",
       "      <th>zcta</th>\n",
       "      <th>parent_zcta</th>\n",
       "      <th>population</th>\n",
       "      <th>density</th>\n",
       "      <th>county_fips</th>\n",
       "      <th>county_name</th>\n",
       "      <th>county_weights</th>\n",
       "      <th>county_names_all</th>\n",
       "      <th>county_fips_all</th>\n",
       "      <th>imprecise</th>\n",
       "      <th>military</th>\n",
       "      <th>timezone</th>\n",
       "    </tr>\n",
       "  </thead>\n",
       "  <tbody>\n",
       "    <tr>\n",
       "      <th>1963</th>\n",
       "      <td>07001</td>\n",
       "      <td>40.58338</td>\n",
       "      <td>-74.27004</td>\n",
       "      <td>Avenel</td>\n",
       "      <td>NJ</td>\n",
       "      <td>New Jersey</td>\n",
       "      <td>True</td>\n",
       "      <td>NaN</td>\n",
       "      <td>18307</td>\n",
       "      <td>1671.6</td>\n",
       "      <td>34023</td>\n",
       "      <td>Middlesex</td>\n",
       "      <td>{'34023':100}</td>\n",
       "      <td>Middlesex</td>\n",
       "      <td>34023</td>\n",
       "      <td>False</td>\n",
       "      <td>False</td>\n",
       "      <td>America/New_York</td>\n",
       "    </tr>\n",
       "    <tr>\n",
       "      <th>1964</th>\n",
       "      <td>07002</td>\n",
       "      <td>40.66464</td>\n",
       "      <td>-74.10868</td>\n",
       "      <td>Bayonne</td>\n",
       "      <td>NJ</td>\n",
       "      <td>New Jersey</td>\n",
       "      <td>True</td>\n",
       "      <td>NaN</td>\n",
       "      <td>65300</td>\n",
       "      <td>4161.2</td>\n",
       "      <td>34017</td>\n",
       "      <td>Hudson</td>\n",
       "      <td>{'34017':100}</td>\n",
       "      <td>Hudson</td>\n",
       "      <td>34017</td>\n",
       "      <td>False</td>\n",
       "      <td>False</td>\n",
       "      <td>America/New_York</td>\n",
       "    </tr>\n",
       "    <tr>\n",
       "      <th>1965</th>\n",
       "      <td>07003</td>\n",
       "      <td>40.81002</td>\n",
       "      <td>-74.18679</td>\n",
       "      <td>Bloomfield</td>\n",
       "      <td>NJ</td>\n",
       "      <td>New Jersey</td>\n",
       "      <td>True</td>\n",
       "      <td>NaN</td>\n",
       "      <td>48810</td>\n",
       "      <td>3437.6</td>\n",
       "      <td>34013</td>\n",
       "      <td>Essex</td>\n",
       "      <td>{'34013':100}</td>\n",
       "      <td>Essex</td>\n",
       "      <td>34013</td>\n",
       "      <td>False</td>\n",
       "      <td>False</td>\n",
       "      <td>America/New_York</td>\n",
       "    </tr>\n",
       "    <tr>\n",
       "      <th>1966</th>\n",
       "      <td>07004</td>\n",
       "      <td>40.88278</td>\n",
       "      <td>-74.30415</td>\n",
       "      <td>Fairfield</td>\n",
       "      <td>NJ</td>\n",
       "      <td>New Jersey</td>\n",
       "      <td>True</td>\n",
       "      <td>NaN</td>\n",
       "      <td>7331</td>\n",
       "      <td>283.5</td>\n",
       "      <td>34013</td>\n",
       "      <td>Essex</td>\n",
       "      <td>{'34013':100}</td>\n",
       "      <td>Essex</td>\n",
       "      <td>34013</td>\n",
       "      <td>False</td>\n",
       "      <td>False</td>\n",
       "      <td>America/New_York</td>\n",
       "    </tr>\n",
       "    <tr>\n",
       "      <th>1967</th>\n",
       "      <td>07005</td>\n",
       "      <td>40.92947</td>\n",
       "      <td>-74.42099</td>\n",
       "      <td>Boonton</td>\n",
       "      <td>NJ</td>\n",
       "      <td>New Jersey</td>\n",
       "      <td>True</td>\n",
       "      <td>NaN</td>\n",
       "      <td>15095</td>\n",
       "      <td>313.7</td>\n",
       "      <td>34027</td>\n",
       "      <td>Morris</td>\n",
       "      <td>{'34027':100}</td>\n",
       "      <td>Morris</td>\n",
       "      <td>34027</td>\n",
       "      <td>False</td>\n",
       "      <td>False</td>\n",
       "      <td>America/New_York</td>\n",
       "    </tr>\n",
       "  </tbody>\n",
       "</table>\n",
       "</div>"
      ],
      "text/plain": [
       "        zip       lat       lng        city state_id  state_name  zcta  \\\n",
       "1963  07001  40.58338 -74.27004      Avenel       NJ  New Jersey  True   \n",
       "1964  07002  40.66464 -74.10868     Bayonne       NJ  New Jersey  True   \n",
       "1965  07003  40.81002 -74.18679  Bloomfield       NJ  New Jersey  True   \n",
       "1966  07004  40.88278 -74.30415   Fairfield       NJ  New Jersey  True   \n",
       "1967  07005  40.92947 -74.42099     Boonton       NJ  New Jersey  True   \n",
       "\n",
       "      parent_zcta  population  density  county_fips county_name  \\\n",
       "1963          NaN       18307   1671.6        34023   Middlesex   \n",
       "1964          NaN       65300   4161.2        34017      Hudson   \n",
       "1965          NaN       48810   3437.6        34013       Essex   \n",
       "1966          NaN        7331    283.5        34013       Essex   \n",
       "1967          NaN       15095    313.7        34027      Morris   \n",
       "\n",
       "     county_weights county_names_all county_fips_all  imprecise  military  \\\n",
       "1963  {'34023':100}        Middlesex           34023      False     False   \n",
       "1964  {'34017':100}           Hudson           34017      False     False   \n",
       "1965  {'34013':100}            Essex           34013      False     False   \n",
       "1966  {'34013':100}            Essex           34013      False     False   \n",
       "1967  {'34027':100}           Morris           34027      False     False   \n",
       "\n",
       "              timezone  \n",
       "1963  America/New_York  \n",
       "1964  America/New_York  \n",
       "1965  America/New_York  \n",
       "1966  America/New_York  \n",
       "1967  America/New_York  "
      ]
     },
     "execution_count": 4,
     "metadata": {},
     "output_type": "execute_result"
    }
   ],
   "source": [
    "nj_zips_df = zip_df.groupby(['state_id']).get_group('NJ')\n",
    "nj_zips_df.head()"
   ]
  },
  {
   "cell_type": "code",
   "execution_count": 5,
   "metadata": {},
   "outputs": [],
   "source": [
    "new_jersey_zip_codes =  nj_zips_df['zip'].tolist()"
   ]
  },
  {
   "cell_type": "code",
   "execution_count": 6,
   "metadata": {},
   "outputs": [],
   "source": [
    "url = \"https://www.walmart.com/store/finder/electrode/api/stores?\\\n",
    "singleLineAddr=%s&serviceTypes=pharmacy&distance=1\"\n",
    "walmart_store_database = []"
   ]
  },
  {
   "cell_type": "code",
   "execution_count": null,
   "metadata": {},
   "outputs": [
    {
     "name": "stderr",
     "output_type": "stream",
     "text": [
      " 31%|███▏      | 186/595 [01:54<04:08,  1.65it/s]"
     ]
    }
   ],
   "source": [
    "for zips in tqdm(new_jersey_zip_codes):\n",
    "    store_response = requests.get(url % zips).json()\n",
    "    store_data = store_response.get('payload',{}).get('storesData',{}).get(\"stores\",[])\n",
    "    for store in store_data:\n",
    "        store_id = store.get('id')\n",
    "        display_name = store.get(\"displayName\")\n",
    "        address = store.get(\"address\")\n",
    "        phone = store.get(\"phone\")\n",
    "        data = {\"name\":display_name,\n",
    "                \"store_id\":store_id,\n",
    "                \"address\":address,\n",
    "                \"phone\":phone,\n",
    "               }\n",
    "        walmart_store_database.append(data)"
   ]
  },
  {
   "cell_type": "markdown",
   "metadata": {},
   "source": [
    "# walmart_store_database"
   ]
  },
  {
   "cell_type": "code",
   "execution_count": null,
   "metadata": {},
   "outputs": [],
   "source": [
    "main_df = pd.DataFrame(walmart_store_database)\n",
    "main_df = main_df.drop(['address'], axis=1)\n",
    "unnested_address_column_df = pd.DataFrame(walmart_store_database)\n",
    "unnested_address_column_df = unnested_address_column_df.address.apply(pd.Series)"
   ]
  },
  {
   "cell_type": "code",
   "execution_count": null,
   "metadata": {},
   "outputs": [],
   "source": [
    "walmart_db_df = pd.concat([main_df, unnested_address_column_df], axis=1, join='inner')"
   ]
  },
  {
   "cell_type": "code",
   "execution_count": null,
   "metadata": {},
   "outputs": [],
   "source": [
    "walmart_db_df.head()"
   ]
  },
  {
   "cell_type": "markdown",
   "metadata": {},
   "source": [
    "# COUPON CODE BELOW"
   ]
  },
  {
   "cell_type": "code",
   "execution_count": null,
   "metadata": {},
   "outputs": [],
   "source": [
    "walmart_db_df.info()"
   ]
  },
  {
   "cell_type": "code",
   "execution_count": null,
   "metadata": {},
   "outputs": [],
   "source": [
    "store_list = walmart_db_df[\"store_id\"].unique()"
   ]
  },
  {
   "cell_type": "code",
   "execution_count": null,
   "metadata": {},
   "outputs": [],
   "source": [
    "len(store_list)"
   ]
  },
  {
   "cell_type": "code",
   "execution_count": null,
   "metadata": {
    "scrolled": true
   },
   "outputs": [],
   "source": [
    "for store in store_list:\n",
    "    print(f\"https://www.walmart.com/store/{store}/search?query=ezekiel%20bread\")"
   ]
  },
  {
   "cell_type": "code",
   "execution_count": null,
   "metadata": {
    "scrolled": true
   },
   "outputs": [],
   "source": [
    "walmart_db_df[\"name\"].unique()"
   ]
  },
  {
   "cell_type": "code",
   "execution_count": null,
   "metadata": {},
   "outputs": [],
   "source": [
    "len(walmart_db_df[\"name\"].unique())"
   ]
  },
  {
   "cell_type": "code",
   "execution_count": null,
   "metadata": {},
   "outputs": [],
   "source": [
    "unique_store = walmart_db_df.drop_duplicates(subset = ['store_id'])"
   ]
  },
  {
   "cell_type": "code",
   "execution_count": null,
   "metadata": {},
   "outputs": [],
   "source": [
    "#MADE NEW STORES DF\n",
    "stores_df=unique_store\n",
    "stores_df\n"
   ]
  },
  {
   "cell_type": "code",
   "execution_count": null,
   "metadata": {},
   "outputs": [],
   "source": [
    "#Store column. Add to new dataframe\n",
    "store_df_list=stores_df[\"store_id\"]\n",
    "store_df_list\n",
    "\n",
    "\n",
    "ing_list = []\n",
    "for stores in store_df_list:\n",
    "    for ingredient in ingredients:\n",
    "        ing_list.append(ingredient)\n",
    "ing_list\n",
    "\n",
    "\n"
   ]
  },
  {
   "cell_type": "code",
   "execution_count": null,
   "metadata": {},
   "outputs": [],
   "source": [
    "#Create new dataframe by duplicating each row 20 times\n",
    "duplicated_twenty = pd.concat([stores_df]*20)\n",
    "duplicated_twenty\n"
   ]
  },
  {
   "cell_type": "code",
   "execution_count": null,
   "metadata": {},
   "outputs": [],
   "source": [
    "ordered_df= duplicated_twenty.sort_values(by=['name'])\n",
    "ordered_df.head(25)"
   ]
  },
  {
   "cell_type": "code",
   "execution_count": null,
   "metadata": {},
   "outputs": [],
   "source": [
    "dataframe_with_ingredients = ordered_df.assign(ingredients=ing_list)\n",
    "dataframe_with_ingredients.head(21)\n",
    "len(dataframe_with_ingredients)\n",
    "dataframe_with_ingredients"
   ]
  },
  {
   "cell_type": "code",
   "execution_count": null,
   "metadata": {},
   "outputs": [],
   "source": [
    "# testlist = []\n",
    "# for stores in store_df_list:\n",
    "#     for ingredient in ingredients:\n",
    "#         testlist.append(ingredient)\n",
    "# testlist\n",
    "\n",
    "stores_by_name=dataframe_with_ingredients[\"store_id\"]\n",
    "\n",
    "urllist=[]\n",
    "remove_spaces=[]\n",
    "\n",
    "#removes spaces\n",
    "for i in ingredients:\n",
    "    j=i.replace(\" \",\"%20\")\n",
    "    remove_spaces.append(j)\n",
    "\n",
    "for store in stores_by_name:\n",
    "    for ingredient in remove_spaces:\n",
    "        url=(f\"https://www.walmart.com/store/{store}/search?query={ingredient}\")\n",
    "        urllist.append(url)\n",
    "        \n",
    "urllist\n",
    "\n",
    "\n"
   ]
  },
  {
   "cell_type": "code",
   "execution_count": null,
   "metadata": {},
   "outputs": [],
   "source": [
    "len(urllist)"
   ]
  },
  {
   "cell_type": "code",
   "execution_count": null,
   "metadata": {},
   "outputs": [],
   "source": [
    "new_urls = [] \n",
    "for i in urllist: \n",
    "    if i not in new_urls: \n",
    "        new_urls.append(i) \n",
    "len(new_urls)"
   ]
  },
  {
   "cell_type": "code",
   "execution_count": null,
   "metadata": {},
   "outputs": [],
   "source": [
    "new_urls"
   ]
  },
  {
   "cell_type": "code",
   "execution_count": null,
   "metadata": {},
   "outputs": [],
   "source": [
    "#Add this to the dataframe\n",
    "dataframe_urls_ing=dataframe_with_ingredients.assign(urls=new_urls)\n",
    "\n",
    "# dataframe_with_ingredients = ordered_df.assign(ingredients=testlist)\n",
    "\n",
    "dataframe_urls_ing\n",
    "\n",
    "\n"
   ]
  },
  {
   "cell_type": "code",
   "execution_count": null,
   "metadata": {},
   "outputs": [],
   "source": [
    "dataframe_urls_ing.to_csv('../datasets/walmart.csv', index=False)"
   ]
  }
 ],
 "metadata": {
  "kernelspec": {
   "display_name": "Python 3",
   "language": "python",
   "name": "python3"
  },
  "language_info": {
   "codemirror_mode": {
    "name": "ipython",
    "version": 3
   },
   "file_extension": ".py",
   "mimetype": "text/x-python",
   "name": "python",
   "nbconvert_exporter": "python",
   "pygments_lexer": "ipython3",
   "version": "3.6.10"
  }
 },
 "nbformat": 4,
 "nbformat_minor": 4
}

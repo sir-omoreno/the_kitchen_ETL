{
 "cells": [
  {
   "cell_type": "code",
   "execution_count": 309,
   "metadata": {},
   "outputs": [],
   "source": [
    "import csv\n",
    "import requests\n",
    "import pandas as pd\n",
    "from tqdm import tqdm\n",
    "import pymongo\n",
    "from pandas.io.json import json_normalize\n",
    "import json"
   ]
  },
  {
   "cell_type": "code",
   "execution_count": 310,
   "metadata": {},
   "outputs": [
    {
     "data": {
      "text/html": [
       "<div>\n",
       "<style scoped>\n",
       "    .dataframe tbody tr th:only-of-type {\n",
       "        vertical-align: middle;\n",
       "    }\n",
       "\n",
       "    .dataframe tbody tr th {\n",
       "        vertical-align: top;\n",
       "    }\n",
       "\n",
       "    .dataframe thead th {\n",
       "        text-align: right;\n",
       "    }\n",
       "</style>\n",
       "<table border=\"1\" class=\"dataframe\">\n",
       "  <thead>\n",
       "    <tr style=\"text-align: right;\">\n",
       "      <th></th>\n",
       "      <th>zip</th>\n",
       "      <th>lat</th>\n",
       "      <th>lng</th>\n",
       "      <th>city</th>\n",
       "      <th>state_id</th>\n",
       "      <th>state_name</th>\n",
       "      <th>zcta</th>\n",
       "      <th>parent_zcta</th>\n",
       "      <th>population</th>\n",
       "      <th>density</th>\n",
       "      <th>county_fips</th>\n",
       "      <th>county_name</th>\n",
       "      <th>county_weights</th>\n",
       "      <th>county_names_all</th>\n",
       "      <th>county_fips_all</th>\n",
       "      <th>imprecise</th>\n",
       "      <th>military</th>\n",
       "      <th>timezone</th>\n",
       "    </tr>\n",
       "  </thead>\n",
       "  <tbody>\n",
       "    <tr>\n",
       "      <th>0</th>\n",
       "      <td>00601</td>\n",
       "      <td>18.18004</td>\n",
       "      <td>-66.75218</td>\n",
       "      <td>Adjuntas</td>\n",
       "      <td>PR</td>\n",
       "      <td>Puerto Rico</td>\n",
       "      <td>True</td>\n",
       "      <td>NaN</td>\n",
       "      <td>17242</td>\n",
       "      <td>111.4</td>\n",
       "      <td>72001</td>\n",
       "      <td>Adjuntas</td>\n",
       "      <td>{'72001':99.43,'72141':0.57}</td>\n",
       "      <td>Adjuntas|Utuado</td>\n",
       "      <td>72001|72141</td>\n",
       "      <td>False</td>\n",
       "      <td>False</td>\n",
       "      <td>America/Puerto_Rico</td>\n",
       "    </tr>\n",
       "    <tr>\n",
       "      <th>1</th>\n",
       "      <td>00602</td>\n",
       "      <td>18.36073</td>\n",
       "      <td>-67.17517</td>\n",
       "      <td>Aguada</td>\n",
       "      <td>PR</td>\n",
       "      <td>Puerto Rico</td>\n",
       "      <td>True</td>\n",
       "      <td>NaN</td>\n",
       "      <td>38442</td>\n",
       "      <td>523.5</td>\n",
       "      <td>72003</td>\n",
       "      <td>Aguada</td>\n",
       "      <td>{'72003':100}</td>\n",
       "      <td>Aguada</td>\n",
       "      <td>72003</td>\n",
       "      <td>False</td>\n",
       "      <td>False</td>\n",
       "      <td>America/Puerto_Rico</td>\n",
       "    </tr>\n",
       "    <tr>\n",
       "      <th>2</th>\n",
       "      <td>00603</td>\n",
       "      <td>18.45439</td>\n",
       "      <td>-67.12202</td>\n",
       "      <td>Aguadilla</td>\n",
       "      <td>PR</td>\n",
       "      <td>Puerto Rico</td>\n",
       "      <td>True</td>\n",
       "      <td>NaN</td>\n",
       "      <td>48814</td>\n",
       "      <td>667.9</td>\n",
       "      <td>72005</td>\n",
       "      <td>Aguadilla</td>\n",
       "      <td>{'72005':100}</td>\n",
       "      <td>Aguadilla</td>\n",
       "      <td>72005</td>\n",
       "      <td>False</td>\n",
       "      <td>False</td>\n",
       "      <td>America/Puerto_Rico</td>\n",
       "    </tr>\n",
       "    <tr>\n",
       "      <th>3</th>\n",
       "      <td>00606</td>\n",
       "      <td>18.16724</td>\n",
       "      <td>-66.93828</td>\n",
       "      <td>Maricao</td>\n",
       "      <td>PR</td>\n",
       "      <td>Puerto Rico</td>\n",
       "      <td>True</td>\n",
       "      <td>NaN</td>\n",
       "      <td>6437</td>\n",
       "      <td>60.4</td>\n",
       "      <td>72093</td>\n",
       "      <td>Maricao</td>\n",
       "      <td>{'72093':94.88,'72121':1.35,'72153':3.78}</td>\n",
       "      <td>Maricao|Yauco|Sabana Grande</td>\n",
       "      <td>72093|72153|72121</td>\n",
       "      <td>False</td>\n",
       "      <td>False</td>\n",
       "      <td>America/Puerto_Rico</td>\n",
       "    </tr>\n",
       "    <tr>\n",
       "      <th>4</th>\n",
       "      <td>00610</td>\n",
       "      <td>18.29032</td>\n",
       "      <td>-67.12243</td>\n",
       "      <td>Anasco</td>\n",
       "      <td>PR</td>\n",
       "      <td>Puerto Rico</td>\n",
       "      <td>True</td>\n",
       "      <td>NaN</td>\n",
       "      <td>27073</td>\n",
       "      <td>312.0</td>\n",
       "      <td>72011</td>\n",
       "      <td>Añasco</td>\n",
       "      <td>{'72003':0.55,'72011':99.45}</td>\n",
       "      <td>Añasco|Aguada</td>\n",
       "      <td>72011|72003</td>\n",
       "      <td>False</td>\n",
       "      <td>False</td>\n",
       "      <td>America/Puerto_Rico</td>\n",
       "    </tr>\n",
       "  </tbody>\n",
       "</table>\n",
       "</div>"
      ],
      "text/plain": [
       "     zip       lat       lng       city state_id   state_name  zcta  \\\n",
       "0  00601  18.18004 -66.75218   Adjuntas       PR  Puerto Rico  True   \n",
       "1  00602  18.36073 -67.17517     Aguada       PR  Puerto Rico  True   \n",
       "2  00603  18.45439 -67.12202  Aguadilla       PR  Puerto Rico  True   \n",
       "3  00606  18.16724 -66.93828    Maricao       PR  Puerto Rico  True   \n",
       "4  00610  18.29032 -67.12243     Anasco       PR  Puerto Rico  True   \n",
       "\n",
       "   parent_zcta  population  density  county_fips county_name  \\\n",
       "0          NaN       17242    111.4        72001    Adjuntas   \n",
       "1          NaN       38442    523.5        72003      Aguada   \n",
       "2          NaN       48814    667.9        72005   Aguadilla   \n",
       "3          NaN        6437     60.4        72093     Maricao   \n",
       "4          NaN       27073    312.0        72011      Añasco   \n",
       "\n",
       "                              county_weights             county_names_all  \\\n",
       "0               {'72001':99.43,'72141':0.57}              Adjuntas|Utuado   \n",
       "1                              {'72003':100}                       Aguada   \n",
       "2                              {'72005':100}                    Aguadilla   \n",
       "3  {'72093':94.88,'72121':1.35,'72153':3.78}  Maricao|Yauco|Sabana Grande   \n",
       "4               {'72003':0.55,'72011':99.45}                Añasco|Aguada   \n",
       "\n",
       "     county_fips_all  imprecise  military             timezone  \n",
       "0        72001|72141      False     False  America/Puerto_Rico  \n",
       "1              72003      False     False  America/Puerto_Rico  \n",
       "2              72005      False     False  America/Puerto_Rico  \n",
       "3  72093|72153|72121      False     False  America/Puerto_Rico  \n",
       "4        72011|72003      False     False  America/Puerto_Rico  "
      ]
     },
     "execution_count": 310,
     "metadata": {},
     "output_type": "execute_result"
    }
   ],
   "source": [
    "#Tip when dealing with zip codes. dtpye will default with integer, no bueno when it comes to zipcodes\n",
    "#that start wth 0. SET the dtype to strig. \n",
    "\n",
    "zip_codes_file = pd.read_csv(\"../datasets/uszips.csv\", dtype={'zip': 'str'})\n",
    "zip_df = zip_codes_file\n",
    "zip_df.head()"
   ]
  },
  {
   "cell_type": "code",
   "execution_count": 311,
   "metadata": {},
   "outputs": [],
   "source": [
    "#walmart_store_database"
   ]
  },
  {
   "cell_type": "code",
   "execution_count": 312,
   "metadata": {},
   "outputs": [
    {
     "data": {
      "text/html": [
       "<div>\n",
       "<style scoped>\n",
       "    .dataframe tbody tr th:only-of-type {\n",
       "        vertical-align: middle;\n",
       "    }\n",
       "\n",
       "    .dataframe tbody tr th {\n",
       "        vertical-align: top;\n",
       "    }\n",
       "\n",
       "    .dataframe thead th {\n",
       "        text-align: right;\n",
       "    }\n",
       "</style>\n",
       "<table border=\"1\" class=\"dataframe\">\n",
       "  <thead>\n",
       "    <tr style=\"text-align: right;\">\n",
       "      <th></th>\n",
       "      <th>zip</th>\n",
       "      <th>lat</th>\n",
       "      <th>lng</th>\n",
       "      <th>city</th>\n",
       "      <th>state_id</th>\n",
       "      <th>state_name</th>\n",
       "      <th>zcta</th>\n",
       "      <th>parent_zcta</th>\n",
       "      <th>population</th>\n",
       "      <th>density</th>\n",
       "      <th>county_fips</th>\n",
       "      <th>county_name</th>\n",
       "      <th>county_weights</th>\n",
       "      <th>county_names_all</th>\n",
       "      <th>county_fips_all</th>\n",
       "      <th>imprecise</th>\n",
       "      <th>military</th>\n",
       "      <th>timezone</th>\n",
       "    </tr>\n",
       "  </thead>\n",
       "  <tbody>\n",
       "    <tr>\n",
       "      <th>1963</th>\n",
       "      <td>07001</td>\n",
       "      <td>40.58338</td>\n",
       "      <td>-74.27004</td>\n",
       "      <td>Avenel</td>\n",
       "      <td>NJ</td>\n",
       "      <td>New Jersey</td>\n",
       "      <td>True</td>\n",
       "      <td>NaN</td>\n",
       "      <td>18307</td>\n",
       "      <td>1671.6</td>\n",
       "      <td>34023</td>\n",
       "      <td>Middlesex</td>\n",
       "      <td>{'34023':100}</td>\n",
       "      <td>Middlesex</td>\n",
       "      <td>34023</td>\n",
       "      <td>False</td>\n",
       "      <td>False</td>\n",
       "      <td>America/New_York</td>\n",
       "    </tr>\n",
       "    <tr>\n",
       "      <th>1964</th>\n",
       "      <td>07002</td>\n",
       "      <td>40.66464</td>\n",
       "      <td>-74.10868</td>\n",
       "      <td>Bayonne</td>\n",
       "      <td>NJ</td>\n",
       "      <td>New Jersey</td>\n",
       "      <td>True</td>\n",
       "      <td>NaN</td>\n",
       "      <td>65300</td>\n",
       "      <td>4161.2</td>\n",
       "      <td>34017</td>\n",
       "      <td>Hudson</td>\n",
       "      <td>{'34017':100}</td>\n",
       "      <td>Hudson</td>\n",
       "      <td>34017</td>\n",
       "      <td>False</td>\n",
       "      <td>False</td>\n",
       "      <td>America/New_York</td>\n",
       "    </tr>\n",
       "    <tr>\n",
       "      <th>1965</th>\n",
       "      <td>07003</td>\n",
       "      <td>40.81002</td>\n",
       "      <td>-74.18679</td>\n",
       "      <td>Bloomfield</td>\n",
       "      <td>NJ</td>\n",
       "      <td>New Jersey</td>\n",
       "      <td>True</td>\n",
       "      <td>NaN</td>\n",
       "      <td>48810</td>\n",
       "      <td>3437.6</td>\n",
       "      <td>34013</td>\n",
       "      <td>Essex</td>\n",
       "      <td>{'34013':100}</td>\n",
       "      <td>Essex</td>\n",
       "      <td>34013</td>\n",
       "      <td>False</td>\n",
       "      <td>False</td>\n",
       "      <td>America/New_York</td>\n",
       "    </tr>\n",
       "    <tr>\n",
       "      <th>1966</th>\n",
       "      <td>07004</td>\n",
       "      <td>40.88278</td>\n",
       "      <td>-74.30415</td>\n",
       "      <td>Fairfield</td>\n",
       "      <td>NJ</td>\n",
       "      <td>New Jersey</td>\n",
       "      <td>True</td>\n",
       "      <td>NaN</td>\n",
       "      <td>7331</td>\n",
       "      <td>283.5</td>\n",
       "      <td>34013</td>\n",
       "      <td>Essex</td>\n",
       "      <td>{'34013':100}</td>\n",
       "      <td>Essex</td>\n",
       "      <td>34013</td>\n",
       "      <td>False</td>\n",
       "      <td>False</td>\n",
       "      <td>America/New_York</td>\n",
       "    </tr>\n",
       "    <tr>\n",
       "      <th>1967</th>\n",
       "      <td>07005</td>\n",
       "      <td>40.92947</td>\n",
       "      <td>-74.42099</td>\n",
       "      <td>Boonton</td>\n",
       "      <td>NJ</td>\n",
       "      <td>New Jersey</td>\n",
       "      <td>True</td>\n",
       "      <td>NaN</td>\n",
       "      <td>15095</td>\n",
       "      <td>313.7</td>\n",
       "      <td>34027</td>\n",
       "      <td>Morris</td>\n",
       "      <td>{'34027':100}</td>\n",
       "      <td>Morris</td>\n",
       "      <td>34027</td>\n",
       "      <td>False</td>\n",
       "      <td>False</td>\n",
       "      <td>America/New_York</td>\n",
       "    </tr>\n",
       "  </tbody>\n",
       "</table>\n",
       "</div>"
      ],
      "text/plain": [
       "        zip       lat       lng        city state_id  state_name  zcta  \\\n",
       "1963  07001  40.58338 -74.27004      Avenel       NJ  New Jersey  True   \n",
       "1964  07002  40.66464 -74.10868     Bayonne       NJ  New Jersey  True   \n",
       "1965  07003  40.81002 -74.18679  Bloomfield       NJ  New Jersey  True   \n",
       "1966  07004  40.88278 -74.30415   Fairfield       NJ  New Jersey  True   \n",
       "1967  07005  40.92947 -74.42099     Boonton       NJ  New Jersey  True   \n",
       "\n",
       "      parent_zcta  population  density  county_fips county_name  \\\n",
       "1963          NaN       18307   1671.6        34023   Middlesex   \n",
       "1964          NaN       65300   4161.2        34017      Hudson   \n",
       "1965          NaN       48810   3437.6        34013       Essex   \n",
       "1966          NaN        7331    283.5        34013       Essex   \n",
       "1967          NaN       15095    313.7        34027      Morris   \n",
       "\n",
       "     county_weights county_names_all county_fips_all  imprecise  military  \\\n",
       "1963  {'34023':100}        Middlesex           34023      False     False   \n",
       "1964  {'34017':100}           Hudson           34017      False     False   \n",
       "1965  {'34013':100}            Essex           34013      False     False   \n",
       "1966  {'34013':100}            Essex           34013      False     False   \n",
       "1967  {'34027':100}           Morris           34027      False     False   \n",
       "\n",
       "              timezone  \n",
       "1963  America/New_York  \n",
       "1964  America/New_York  \n",
       "1965  America/New_York  \n",
       "1966  America/New_York  \n",
       "1967  America/New_York  "
      ]
     },
     "execution_count": 312,
     "metadata": {},
     "output_type": "execute_result"
    }
   ],
   "source": [
    "nj_zips_df = zip_df.groupby(['state_id']).get_group('NJ')\n",
    "nj_zips_df.head()"
   ]
  },
  {
   "cell_type": "code",
   "execution_count": 313,
   "metadata": {},
   "outputs": [],
   "source": [
    "new_jersey_zip_codes =  nj_zips_df['zip'].tolist()"
   ]
  },
  {
   "cell_type": "code",
   "execution_count": 314,
   "metadata": {},
   "outputs": [],
   "source": [
    "url = \"https://www.walmart.com/store/finder/electrode/api/stores?\\\n",
    "singleLineAddr=%s&serviceTypes=pharmacy&distance=1\"\n",
    "walmart_store_database = []"
   ]
  },
  {
   "cell_type": "code",
   "execution_count": 315,
   "metadata": {},
   "outputs": [
    {
     "name": "stderr",
     "output_type": "stream",
     "text": [
      "100%|████████████████████████████████████████████████████████████████████████████████| 595/595 [05:48<00:00,  1.71it/s]\n"
     ]
    }
   ],
   "source": [
    "for zips in tqdm(new_jersey_zip_codes):\n",
    "    store_response = requests.get(url % zips).json()\n",
    "    store_data = store_response.get('payload',{}).get('storesData',{}).get(\"stores\",[])\n",
    "    for store in store_data:\n",
    "        store_id = store.get('id')\n",
    "        display_name = store.get(\"displayName\")\n",
    "        address = store.get(\"address\")\n",
    "        phone = store.get(\"phone\")\n",
    "        data = {\"name\":display_name,\n",
    "                \"store_id\":store_id,\n",
    "                \"address\":address,\n",
    "                \"phone\":phone,\n",
    "               }\n",
    "        walmart_store_database.append(data)"
   ]
  },
  {
   "cell_type": "code",
   "execution_count": 316,
   "metadata": {},
   "outputs": [],
   "source": [
    "#walmart_store_database"
   ]
  },
  {
   "cell_type": "code",
   "execution_count": 317,
   "metadata": {},
   "outputs": [],
   "source": [
    "main_df = pd.DataFrame(walmart_store_database)\n",
    "main_df = main_df.drop(['address'], axis=1)\n",
    "unnested_address_column_df = pd.DataFrame(walmart_store_database)\n",
    "unnested_address_column_df = unnested_address_column_df.address.apply(pd.Series)"
   ]
  },
  {
   "cell_type": "code",
   "execution_count": 297,
   "metadata": {},
   "outputs": [],
   "source": [
    "walmart_db_df = pd.concat([main_df, unnested_address_column_df], axis=1, join='inner')"
   ]
  },
  {
   "cell_type": "code",
   "execution_count": null,
   "metadata": {},
   "outputs": [],
   "source": [
    "walmart_db_df.head()"
   ]
  },
  {
   "cell_type": "code",
   "execution_count": null,
   "metadata": {},
   "outputs": [],
   "source": [
    "# COUPON CODE BELOW ######"
   ]
  },
  {
   "cell_type": "code",
   "execution_count": null,
   "metadata": {},
   "outputs": [],
   "source": [
    "coupon_url = \"https://www.walmart.com/store/%s/coupons\""
   ]
  },
  {
   "cell_type": "code",
   "execution_count": null,
   "metadata": {},
   "outputs": [],
   "source": [
    "coupon_walmart_store_database = []"
   ]
  },
  {
   "cell_type": "code",
   "execution_count": null,
   "metadata": {},
   "outputs": [],
   "source": [
    "\n",
    "coupon_walmart_store_database = []"
   ]
  },
  {
   "cell_type": "code",
   "execution_count": null,
   "metadata": {},
   "outputs": [],
   "source": [
    "for stores in tqdm(store_ids):\n",
    "    coupon_response = requests.get(url % stores)\n"
   ]
  },
  {
   "cell_type": "code",
   "execution_count": null,
   "metadata": {},
   "outputs": [],
   "source": [
    "coupon_response"
   ]
  },
  {
   "cell_type": "code",
   "execution_count": 214,
   "metadata": {},
   "outputs": [],
   "source": []
  },
  {
   "cell_type": "code",
   "execution_count": null,
   "metadata": {},
   "outputs": [],
   "source": []
  },
  {
   "cell_type": "code",
   "execution_count": null,
   "metadata": {},
   "outputs": [],
   "source": []
  },
  {
   "cell_type": "code",
   "execution_count": 181,
   "metadata": {},
   "outputs": [],
   "source": []
  },
  {
   "cell_type": "code",
   "execution_count": 182,
   "metadata": {},
   "outputs": [
    {
     "data": {
      "text/plain": [
       "<pymongo.results.InsertManyResult at 0x16d74f76f48>"
      ]
     },
     "execution_count": 182,
     "metadata": {},
     "output_type": "execute_result"
    }
   ],
   "source": []
  },
  {
   "cell_type": "code",
   "execution_count": 186,
   "metadata": {},
   "outputs": [
    {
     "ename": "TypeError",
     "evalue": "'Collection' object is not callable. If you meant to call the 'head' method on a 'Collection' object it is failing because no such method exists.",
     "output_type": "error",
     "traceback": [
      "\u001b[1;31m---------------------------------------------------------------------------\u001b[0m",
      "\u001b[1;31mTypeError\u001b[0m                                 Traceback (most recent call last)",
      "\u001b[1;32m<ipython-input-186-d332d98e0c75>\u001b[0m in \u001b[0;36m<module>\u001b[1;34m\u001b[0m\n\u001b[0;32m      1\u001b[0m \u001b[0mcollection\u001b[0m \u001b[1;33m=\u001b[0m \u001b[0mstores\u001b[0m\u001b[1;33m\u001b[0m\u001b[1;33m\u001b[0m\u001b[0m\n\u001b[1;32m----> 2\u001b[1;33m \u001b[0mcollection\u001b[0m\u001b[1;33m.\u001b[0m\u001b[0mhead\u001b[0m\u001b[1;33m(\u001b[0m\u001b[1;33m)\u001b[0m\u001b[1;33m\u001b[0m\u001b[1;33m\u001b[0m\u001b[0m\n\u001b[0m",
      "\u001b[1;32mC:\\ProgramData\\Anaconda3\\lib\\site-packages\\pymongo\\collection.py\u001b[0m in \u001b[0;36m__call__\u001b[1;34m(self, *args, **kwargs)\u001b[0m\n\u001b[0;32m   3446\u001b[0m                         \u001b[1;34m\"call the '%s' method on a 'Collection' object it is \"\u001b[0m\u001b[1;33m\u001b[0m\u001b[1;33m\u001b[0m\u001b[0m\n\u001b[0;32m   3447\u001b[0m                         \u001b[1;34m\"failing because no such method exists.\"\u001b[0m \u001b[1;33m%\u001b[0m\u001b[1;33m\u001b[0m\u001b[1;33m\u001b[0m\u001b[0m\n\u001b[1;32m-> 3448\u001b[1;33m                         self.__name.split(\".\")[-1])\n\u001b[0m",
      "\u001b[1;31mTypeError\u001b[0m: 'Collection' object is not callable. If you meant to call the 'head' method on a 'Collection' object it is failing because no such method exists."
     ]
    }
   ],
   "source": []
  }
 ],
 "metadata": {
  "kernelspec": {
   "display_name": "Python 3",
   "language": "python",
   "name": "python3"
  },
  "language_info": {
   "codemirror_mode": {
    "name": "ipython",
    "version": 3
   },
   "file_extension": ".py",
   "mimetype": "text/x-python",
   "name": "python",
   "nbconvert_exporter": "python",
   "pygments_lexer": "ipython3",
   "version": "3.6.10"
  }
 },
 "nbformat": 4,
 "nbformat_minor": 4
}

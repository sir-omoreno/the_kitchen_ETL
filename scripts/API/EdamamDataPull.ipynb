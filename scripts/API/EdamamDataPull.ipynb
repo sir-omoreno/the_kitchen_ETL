{
 "cells": [
  {
   "cell_type": "code",
   "execution_count": 7,
   "metadata": {},
   "outputs": [],
   "source": [
    "# Dependencies\n",
    "import requests\n",
    "import json\n"
   ]
  },
  {
   "cell_type": "code",
   "execution_count": 9,
   "metadata": {},
   "outputs": [
    {
     "name": "stdout",
     "output_type": "stream",
     "text": [
      "https://api.edamam.com/search?q=eggs&app_id=ce55a8d6&app_key=93f12be7b76e6dbb2129a2b44add7735&time=5%2B\n"
     ]
    }
   ],
   "source": [
    "# Popular list of ingredients\n",
    "pop_list = ['eggs', 'almonds', 'chicken breast', 'oats', 'cottage cheese', 'greek yogurt', 'milk', 'broccoli',\n",
    "            'lean beef','tuna','quinoa', 'whey protein supplements', 'lentils','ezekiel bread','pumpkin seeds',\n",
    "            'turkey breast','fish', 'shrimp', 'brussel sprouts','peanuts']\n",
    "#App ID\n",
    "api_id = 'ce55a8d6'\n",
    "api_key = '93f12be7b76e6dbb2129a2b44add7735'\n",
    "\n",
    "# Query\n",
    "query = 'eggs'\n",
    "# Cooking time greater than 5 minutes\n",
    "time = '5%2B'\n",
    "\n",
    "for call in pop_list:\n",
    "    # Url for api\n",
    "    url = \"https://api.edamam.com/search\" + \"?q=\" + query + \"&app_id=\" + api_id + \"&app_key=\" + api_key + \"&time=\" + time\n",
    "    print(url)"
   ]
  },
  {
   "cell_type": "code",
   "execution_count": null,
   "metadata": {},
   "outputs": [],
   "source": [
    "# Ramyata's Notes - See documentation for how to pull info: https://developer.edamam.com/edamam-docs-recipe-api\n",
    "# We need to provide a keyword, there is no way to pull info for an entire category such as \"breakfast\". \n",
    "# I suggest we use the json files Ozzie pulled, for all the recipies, let's get some nutrition info\n",
    "# Nutrition info can be an other collection (if we're using MongoDB)"
   ]
  }
 ],
 "metadata": {
  "kernelspec": {
   "display_name": "Python 3",
   "language": "python",
   "name": "python3"
  },
  "language_info": {
   "codemirror_mode": {
    "name": "ipython",
    "version": 3
   },
   "file_extension": ".py",
   "mimetype": "text/x-python",
   "name": "python",
   "nbconvert_exporter": "python",
   "pygments_lexer": "ipython3",
   "version": "3.6.10"
  }
 },
 "nbformat": 4,
 "nbformat_minor": 4
}

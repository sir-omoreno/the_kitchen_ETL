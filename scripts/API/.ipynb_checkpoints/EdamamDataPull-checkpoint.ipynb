{
 "cells": [
  {
   "cell_type": "code",
   "execution_count": 3,
   "metadata": {},
   "outputs": [],
   "source": [
    "# Dependencies\n",
    "import requests\n",
    "import json\n"
   ]
  },
  {
   "cell_type": "code",
   "execution_count": 5,
   "metadata": {},
   "outputs": [
    {
     "ename": "SyntaxError",
     "evalue": "invalid syntax (<ipython-input-5-fbcf58a8ff3b>, line 3)",
     "output_type": "error",
     "traceback": [
      "\u001b[1;36m  File \u001b[1;32m\"<ipython-input-5-fbcf58a8ff3b>\"\u001b[1;36m, line \u001b[1;32m3\u001b[0m\n\u001b[1;33m    ingredient = [eggs, almonds, chicken breast, oats, cottage cheese, greek yogurt, milk, broccoli, lean beef, tuna, quinoa,\u001b[0m\n\u001b[1;37m                                              ^\u001b[0m\n\u001b[1;31mSyntaxError\u001b[0m\u001b[1;31m:\u001b[0m invalid syntax\n"
     ]
    }
   ],
   "source": [
    "# Build the endpoint URL\n",
    "# Testing an API Pull\n",
    "ingredient = [eggs, almonds, chicken breast, oats, cottage cheese, greek yogurt, milk, broccoli, lean beef, tuna, quinoa, \n",
    "              whey protein supplements, lentils, ezekiel bread, pumpkin seeds, turkey breast, fish, shrimp, brussel sprouts, peanuts]\n",
    "appid = 'ce55a8d6'\n",
    "appkey = '93f12be7b76e6dbb2129a2b44add7735'\n",
    "\n",
    "target_url = ('https://api.edamam.com/search?','q={0}&app_id={1}&app_key={2}').format(ingredient[1],appid,appkey)\n",
    "# Run a request to endpoint and convert result to json\n",
    "recipie_data = requests.get(target_url).json()\n",
    "# Print the json\n",
    "print(json.dumps(recipie_data, indent=4, sort_keys=True))"
   ]
  },
  {
   "cell_type": "code",
   "execution_count": null,
   "metadata": {},
   "outputs": [],
   "source": [
    "# Ramyata's Notes - See documentation for how to pull info: https://developer.edamam.com/edamam-docs-recipe-api\n",
    "# We need to provide a keyword, there is no way to pull info for an entire category such as \"breakfast\". \n",
    "# I suggest we use the json files Ozzie pulled, for all the recipies, let's get some nutrition info\n",
    "# Nutrition info can be an other collection (if we're using MongoDB)"
   ]
  }
 ],
 "metadata": {
  "kernelspec": {
   "display_name": "Python 3",
   "language": "python",
   "name": "python3"
  },
  "language_info": {
   "codemirror_mode": {
    "name": "ipython",
    "version": 3
   },
   "file_extension": ".py",
   "mimetype": "text/x-python",
   "name": "python",
   "nbconvert_exporter": "python",
   "pygments_lexer": "ipython3",
   "version": "3.6.10"
  }
 },
 "nbformat": 4,
 "nbformat_minor": 4
}

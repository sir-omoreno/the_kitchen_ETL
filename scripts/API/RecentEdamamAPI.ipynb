{
 "cells": [
  {
   "cell_type": "code",
   "execution_count": 20,
   "metadata": {},
   "outputs": [],
   "source": [
    "import pandas as pd\n",
    "import requests\n",
    "import json\n",
    "from config import api_id_ru, api_key_ru\n",
    "import time"
   ]
  },
  {
   "cell_type": "code",
   "execution_count": 21,
   "metadata": {},
   "outputs": [],
   "source": [
    "# List of ingredients scraped from healthline, top protein sources \n",
    "pop_list = ['eggs', 'almonds', 'chicken breast', 'oats', 'cottage cheese', 'greek yogurt', 'milk', 'broccoli',\n",
    "            'lean beef','tuna','quinoa', 'whey protein supplements', 'lentils','ezekiel bread','pumpkin seeds',\n",
    "            'turkey breast','fish', 'shrimp', 'brussel sprouts','peanuts']\n",
    "# Only interested in recipes where cook time is over 5 minutes\n",
    "cook_time = '5%2B'\n",
    "# Total recipes to be queried is 50\n",
    "from_number = \"0\"\n",
    "to_number = \"50\"\n",
    "\n",
    "# recipe info lists\n",
    "recipe_name = list()\n",
    "recipe_names = list()\n",
    "recipe_yields = list()\n",
    "recipe_urls = list()\n",
    "\n",
    "# This loop pulls 50 recipes per ingredient\n",
    "for food in pop_list:\n",
    "    url = \"https://api.edamam.com/search\" + \"?q=\" + food + \"&app_id=\" + api_id_ru + \"&app_key=\" + api_key_ru + \"&time=\" + cook_time + \"&from=\" + from_number + \"&to=\" + to_number\n",
    "    food_request = requests.get(url)\n",
    "    food_json = food_request.json()\n",
    "    \n",
    "    # This loop will save recipe information for each ingredient\n",
    "    for x in range(0, 50):\n",
    "        # Extract all recipe names for ingredient, make it the key of the dictionary\n",
    "        name = food_json[\"hits\"][x][\"recipe\"][\"label\"]\n",
    "        recipe_names.append(name)\n",
    "        # Extract yields for each for ingredient\n",
    "        yield_amt = food_json[\"hits\"][x][\"recipe\"][\"yield\"]\n",
    "        recipe_yields.append(yield_amt)\n",
    "        # Extract the url for the recipe\n",
    "        recipe_urls = food_json[\"hits\"][1][\"recipe\"][\"url\"]\n",
    "        # Extract the total cook time for the recipe\n",
    "        recipe_cook_time = food_json[\"hits\"][1][\"recipe\"][\"totalTime\"]    \n",
    "      \n",
    "    # Sleep in between the queries to avoid getting flagged 5 calls/min\n",
    "    time.sleep(11)"
   ]
  }
 ],
 "metadata": {
  "kernelspec": {
   "display_name": "Python 3",
   "language": "python",
   "name": "python3"
  },
  "language_info": {
   "codemirror_mode": {
    "name": "ipython",
    "version": 3
   },
   "file_extension": ".py",
   "mimetype": "text/x-python",
   "name": "python",
   "nbconvert_exporter": "python",
   "pygments_lexer": "ipython3",
   "version": "3.6.10"
  }
 },
 "nbformat": 4,
 "nbformat_minor": 4
}
